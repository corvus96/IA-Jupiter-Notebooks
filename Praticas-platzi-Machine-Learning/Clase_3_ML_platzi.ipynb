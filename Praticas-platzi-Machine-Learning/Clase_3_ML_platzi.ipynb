{
  "nbformat": 4,
  "nbformat_minor": 0,
  "metadata": {
    "colab": {
      "name": "Clase 3 ML platzi.ipynb",
      "provenance": [],
      "collapsed_sections": []
    },
    "kernelspec": {
      "name": "python3",
      "display_name": "Python 3"
    }
  },
  "cells": [
    {
      "cell_type": "code",
      "metadata": {
        "id": "ydjN2VKt5eZH",
        "colab_type": "code",
        "colab": {}
      },
      "source": [
        "import torch\n",
        "import numpy as np\n",
        "import torch.nn as nn\n",
        "import torch.optim as optim\n",
        "\n",
        "import matplotlib.pyplot as plt"
      ],
      "execution_count": 0,
      "outputs": []
    },
    {
      "cell_type": "markdown",
      "metadata": {
        "id": "TsuFqOi86LUV",
        "colab_type": "text"
      },
      "source": [
        "# Regresión Lineal con pytorch\n",
        "---\n",
        "Los features son los precios de los vehiculos y las  salidas son las unidades vendidas.\n",
        "\n",
        "La red es de una unica neurona comportandose como un perceptron pero con pytorch."
      ]
    },
    {
      "cell_type": "code",
      "metadata": {
        "id": "pTIKVGuW51_n",
        "colab_type": "code",
        "outputId": "4725b496-04ff-42f7-fed6-af3c317e6d24",
        "colab": {
          "base_uri": "https://localhost:8080/",
          "height": 282
        }
      },
      "source": [
        "car_prices = [5, 6, 7, 8, 9, 10]\n",
        "units_sold = [8.5, 8.0, 7.5, 7.0, 6.5, 6.0 ]\n",
        "\n",
        "plt.scatter(car_prices, units_sold)"
      ],
      "execution_count": 0,
      "outputs": [
        {
          "output_type": "execute_result",
          "data": {
            "text/plain": [
              "<matplotlib.collections.PathCollection at 0x7fe5c3fe8978>"
            ]
          },
          "metadata": {
            "tags": []
          },
          "execution_count": 3
        },
        {
          "output_type": "display_data",
          "data": {
            "image/png": "[encoded data removed]",
            "text/plain": [
              "<Figure size 432x288 with 1 Axes>"
            ]
          },
          "metadata": {
            "tags": []
          }
        }
      ]
    },
    {
      "cell_type": "code",
      "metadata": {
        "id": "VdSJGJ2Z7Ioy",
        "colab_type": "code",
        "outputId": "6d5e2599-1468-4288-d498-4971ee239ae0",
        "colab": {
          "base_uri": "https://localhost:8080/",
          "height": 204
        }
      },
      "source": [
        "# Convertir listas en arreglos\n",
        "prices_array = np.array(car_prices).reshape(-1,1)\n",
        "units_array = np.array(units_sold).reshape(-1,1)\n",
        "prices_array, units_array"
      ],
      "execution_count": 0,
      "outputs": [
        {
          "output_type": "execute_result",
          "data": {
            "text/plain": [
              "(array([[ 5],\n",
              "        [ 6],\n",
              "        [ 7],\n",
              "        [ 8],\n",
              "        [ 9],\n",
              "        [10]]), array([[8.5],\n",
              "        [8. ],\n",
              "        [7.5],\n",
              "        [7. ],\n",
              "        [6.5],\n",
              "        [6. ]]))"
            ]
          },
          "metadata": {
            "tags": []
          },
          "execution_count": 4
        }
      ]
    },
    {
      "cell_type": "code",
      "metadata": {
        "id": "qjMEXtYn77am",
        "colab_type": "code",
        "outputId": "11c5332e-e215-49dd-b8c9-8b41a39539b8",
        "colab": {
          "base_uri": "https://localhost:8080/",
          "height": 204
        }
      },
      "source": [
        "# Convertir arreglos en tensores\n",
        "prices = torch.from_numpy(prices_array).float().requires_grad_(True)\n",
        "units = torch.from_numpy(units_array).float()\n",
        "prices, units"
      ],
      "execution_count": 0,
      "outputs": [
        {
          "output_type": "execute_result",
          "data": {
            "text/plain": [
              "(tensor([[ 5.],\n",
              "         [ 6.],\n",
              "         [ 7.],\n",
              "         [ 8.],\n",
              "         [ 9.],\n",
              "         [10.]], requires_grad=True), tensor([[8.5000],\n",
              "         [8.0000],\n",
              "         [7.5000],\n",
              "         [7.0000],\n",
              "         [6.5000],\n",
              "         [6.0000]]))"
            ]
          },
          "metadata": {
            "tags": []
          },
          "execution_count": 6
        }
      ]
    },
    {
      "cell_type": "code",
      "metadata": {
        "id": "JN2dRmHy-2TY",
        "colab_type": "code",
        "outputId": "974bf8c0-e999-4c53-b26d-c9b8859c5e8a",
        "colab": {
          "base_uri": "https://localhost:8080/",
          "height": 299
        }
      },
      "source": [
        "model = nn.Linear(1, 1)\n",
        "loss_function = nn.MSELoss()    # MSE: media del cuadrado de los errores\n",
        "optimizer = optim.SGD(model.parameters(), lr = 0.01)\n",
        "losses = []\n",
        "iterations = 2000\n",
        "for i in range(iterations):\n",
        "  prediction = model(prices)\n",
        "  loss = loss_function(prediction, units)\n",
        "  losses.append(loss.data)\n",
        "\n",
        "  optimizer.zero_grad()       # Esto es para no acumular los gradientes \n",
        "  loss.backward()             # Aqui se realiza el backpropagation\n",
        "  optimizer.step()            # Se realiza un salto en base a los gradientes calculados\n",
        "print(\"Last loss: {}\".format(loss))\n",
        "plt.plot(range(iterations),losses)"
      ],
      "execution_count": 0,
      "outputs": [
        {
          "output_type": "stream",
          "text": [
            "Last loss: 0.11622719466686249\n"
          ],
          "name": "stdout"
        },
        {
          "output_type": "execute_result",
          "data": {
            "text/plain": [
              "[<matplotlib.lines.Line2D at 0x7fe5bfc221d0>]"
            ]
          },
          "metadata": {
            "tags": []
          },
          "execution_count": 7
        },
        {
          "output_type": "display_data",
          "data": {
            "image/png": "[encoded data removed]",
            "text/plain": [
              "<Figure size 432x288 with 1 Axes>"
            ]
          },
          "metadata": {
            "tags": []
          }
        }
      ]
    },
    {
      "cell_type": "markdown",
      "metadata": {
        "id": "K5kjfLkfDoIu",
        "colab_type": "text"
      },
      "source": [
        "# Prediction test\n",
        "---"
      ]
    },
    {
      "cell_type": "code",
      "metadata": {
        "id": "NlC0bqC6Dux7",
        "colab_type": "code",
        "outputId": "e91ef123-6d1e-4e31-d453-5d5d0e091280",
        "colab": {
          "base_uri": "https://localhost:8080/",
          "height": 34
        }
      },
      "source": [
        "x = torch.Tensor([[20.0]])\n",
        "p = model(x)\n",
        "p"
      ],
      "execution_count": 0,
      "outputs": [
        {
          "output_type": "execute_result",
          "data": {
            "text/plain": [
              "tensor([[3.3582]], grad_fn=<AddmmBackward>)"
            ]
          },
          "metadata": {
            "tags": []
          },
          "execution_count": 10
        }
      ]
    },
    {
      "cell_type": "markdown",
      "metadata": {
        "id": "p8vBxNk2T7ip",
        "colab_type": "text"
      },
      "source": [
        "# Regresión logística\n",
        "---"
      ]
    },
    {
      "cell_type": "code",
      "metadata": {
        "id": "TmVpmeMOUCPf",
        "colab_type": "code",
        "outputId": "254cbcd1-4feb-411b-f28a-a5ff827893fc",
        "colab": {
          "base_uri": "https://localhost:8080/",
          "height": 282
        }
      },
      "source": [
        "n = 100\n",
        "h = n//2\n",
        "dimen = 2\n",
        "data = np.random.randn(n, dimen)*3\n",
        "colors = ['blue','red']\n",
        "color = np.array([colors[0]]*h + [colors[1]]*h).reshape(n)\n",
        "plt.scatter(data[:,0],data[:,1], c = color)"
      ],
      "execution_count": 0,
      "outputs": [
        {
          "output_type": "execute_result",
          "data": {
            "text/plain": [
              "<matplotlib.collections.PathCollection at 0x7fe5bf9c3940>"
            ]
          },
          "metadata": {
            "tags": []
          },
          "execution_count": 19
        },
        {
          "output_type": "display_data",
          "data": {
            "image/png": "[encoded data removed]",
            "text/plain": [
              "<Figure size 432x288 with 1 Axes>"
            ]
          },
          "metadata": {
            "tags": []
          }
        }
      ]
    },
    {
      "cell_type": "code",
      "metadata": {
        "id": "q_rHAQmlV97d",
        "colab_type": "code",
        "outputId": "4fcab852-1fd8-4f87-f178-00a0d769eed3",
        "colab": {
          "base_uri": "https://localhost:8080/",
          "height": 282
        }
      },
      "source": [
        "data[:h, :] = data[:h, :] - 3*np.ones((h, dimen))\n",
        "data[h:, :] = data[h:, :] + 3*np.ones((h, dimen))\n",
        "plt.scatter(data[:,0],data[:,1], c = color)"
      ],
      "execution_count": 0,
      "outputs": [
        {
          "output_type": "execute_result",
          "data": {
            "text/plain": [
              "<matplotlib.collections.PathCollection at 0x7fe5bf929f98>"
            ]
          },
          "metadata": {
            "tags": []
          },
          "execution_count": 20
        },
        {
          "output_type": "display_data",
          "data": {
            "image/png": "[encoded data removed]",
            "text/plain": [
              "<Figure size 432x288 with 1 Axes>"
            ]
          },
          "metadata": {
            "tags": []
          }
        }
      ]
    },
    {
      "cell_type": "code",
      "metadata": {
        "id": "yUVZmLzGadYD",
        "colab_type": "code",
        "outputId": "fc191c19-dc80-4db9-d781-cd0f20e2a486",
        "colab": {
          "base_uri": "https://localhost:8080/",
          "height": 34
        }
      },
      "source": [
        "target = np.array([0]*h + [1]*h).reshape(n, 1)\n",
        "\n",
        "x = torch.from_numpy(data).float().requires_grad_(True)\n",
        "y = torch.from_numpy(target).float()\n",
        "x.shape, y.shape"
      ],
      "execution_count": 0,
      "outputs": [
        {
          "output_type": "execute_result",
          "data": {
            "text/plain": [
              "(torch.Size([100, 2]), torch.Size([100, 1]))"
            ]
          },
          "metadata": {
            "tags": []
          },
          "execution_count": 22
        }
      ]
    },
    {
      "cell_type": "code",
      "metadata": {
        "id": "TKEvZyrhcOxw",
        "colab_type": "code",
        "outputId": "e2018379-aac1-46f8-d3b9-b1f628614ceb",
        "colab": {
          "base_uri": "https://localhost:8080/",
          "height": 299
        }
      },
      "source": [
        "model = nn.Sequential(\n",
        "    nn.Linear(2,1),\n",
        "    nn.Sigmoid()\n",
        ")\n",
        "\n",
        "loss_function = nn.BCELoss()\n",
        "optimizer = optim.SGD(model.parameters(), lr=0.01)\n",
        "losses = []\n",
        "iterations = 4000\n",
        "for i in range(iterations):\n",
        "  predict = model(x)\n",
        "  loss =loss_function(predict,y)\n",
        "  losses.append(loss.data)\n",
        "  optimizer.zero_grad()\n",
        "  loss.backward()\n",
        "  optimizer.step()\n",
        "print(\"Last loss: {}\".format(loss))\n",
        "plt.plot(range(iterations),losses)"
      ],
      "execution_count": 0,
      "outputs": [
        {
          "output_type": "stream",
          "text": [
            "Last loss: 0.2982417345046997\n"
          ],
          "name": "stdout"
        },
        {
          "output_type": "execute_result",
          "data": {
            "text/plain": [
              "[<matplotlib.lines.Line2D at 0x7fe5bf760208>]"
            ]
          },
          "metadata": {
            "tags": []
          },
          "execution_count": 26
        },
        {
          "output_type": "display_data",
          "data": {
            "image/png": "[encoded data removed]",
            "text/plain": [
              "<Figure size 432x288 with 1 Axes>"
            ]
          },
          "metadata": {
            "tags": []
          }
        }
      ]
    },
    {
      "cell_type": "markdown",
      "metadata": {
        "id": "w4aIfQlbfmVn",
        "colab_type": "text"
      },
      "source": [
        "# Prediction test\n",
        "---"
      ]
    },
    {
      "cell_type": "code",
      "metadata": {
        "id": "aPUmK6mIfkd9",
        "colab_type": "code",
        "outputId": "913b678d-490f-4b25-ab06-9b170be42439",
        "colab": {
          "base_uri": "https://localhost:8080/",
          "height": 34
        }
      },
      "source": [
        "blue = torch.Tensor([[-5, -1.5]])\n",
        "prediction = model(blue).data[0][0] > 0.5\n",
        "print(colors[prediction])"
      ],
      "execution_count": 0,
      "outputs": [
        {
          "output_type": "stream",
          "text": [
            "blue\n"
          ],
          "name": "stdout"
        }
      ]
    }
  ]
}