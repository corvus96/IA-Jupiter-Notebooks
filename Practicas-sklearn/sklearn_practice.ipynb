{
  "nbformat": 4,
  "nbformat_minor": 0,
  "metadata": {
    "colab": {
      "name": "sklearn-practice.ipynb",
      "provenance": [],
      "collapsed_sections": []
    },
    "kernelspec": {
      "name": "python3",
      "display_name": "Python 3"
    }
  },
  "cells": [
    {
      "cell_type": "code",
      "metadata": {
        "id": "-dwPqSj6WgSb",
        "colab_type": "code",
        "colab": {}
      },
      "source": [
        "from sklearn.datasets import load_iris\n",
        "import numpy as np\n",
        "from sklearn import tree"
      ],
      "execution_count": 0,
      "outputs": []
    },
    {
      "cell_type": "code",
      "metadata": {
        "id": "Qr4i6aTXWq-F",
        "colab_type": "code",
        "colab": {
          "base_uri": "https://localhost:8080/",
          "height": 105
        },
        "outputId": "786122fa-9e1b-4e4a-eda5-3d3a511fe42f"
      },
      "source": [
        "iris = load_iris()\n",
        "test_idx = [0,50,100]\n",
        "\n",
        "# training data\n",
        "train_target = np.delete(iris.target,test_idx)\n",
        "train_data = np.delete(iris.data,test_idx, axis=0)\n",
        "\n",
        "#testing data\n",
        "test_target = iris.target[test_idx]\n",
        "test_data = iris.data[test_idx]\n",
        "\n",
        "clf = tree.DecisionTreeClassifier()\n",
        "clf.fit(train_data, train_target)\n",
        "print(test_target)\n",
        "print(clf.predict(test_data))\n",
        "\n",
        "print(test_data[0],test_target[0])\n",
        "print(iris.feature_names, iris.target_names)"
      ],
      "execution_count": 24,
      "outputs": [
        {
          "output_type": "stream",
          "text": [
            "[0 1 2]\n",
            "[0 1 2]\n",
            "[5.1 3.5 1.4 0.2] 0\n",
            "['sepal length (cm)', 'sepal width (cm)', 'petal length (cm)', 'petal width (cm)'] ['setosa' 'versicolor' 'virginica']\n"
          ],
          "name": "stdout"
        }
      ]
    },
    {
      "cell_type": "code",
      "metadata": {
        "id": "I3kGxJY-plRK",
        "colab_type": "code",
        "colab": {
          "base_uri": "https://localhost:8080/",
          "height": 367
        },
        "outputId": "25a961e9-2f18-4e95-e8c3-62b81f6cd9db"
      },
      "source": [
        "import matplotlib.pyplot as plt\n",
        "greyhounds = 500\n",
        "labs = 500\n",
        "\n",
        "grey_height = 28 + 4* np.random.randn(greyhounds)\n",
        "lab_height = 24 + 4 * np.random.randn(labs)\n",
        "\n",
        "plt.hist([grey_height,lab_height], stacked = True, color = ['r', 'b'])"
      ],
      "execution_count": 26,
      "outputs": [
        {
          "output_type": "execute_result",
          "data": {
            "text/plain": [
              "(array([[  0.,   2.,  14.,  66.,  90., 134., 101.,  60.,  27.,   6.],\n",
              "        [ 10.,  39.,  82., 187., 195., 234., 140.,  78.,  28.,   7.]]),\n",
              " array([12.9341104 , 15.58644361, 18.23877682, 20.89111002, 23.54344323,\n",
              "        26.19577644, 28.84810965, 31.50044286, 34.15277607, 36.80510927,\n",
              "        39.45744248]),\n",
              " <a list of 2 Lists of Patches objects>)"
            ]
          },
          "metadata": {
            "tags": []
          },
          "execution_count": 26
        },
        {
          "output_type": "display_data",
          "data": {
            "image/png": "[encoded data removed]",
            "text/plain": [
              "<Figure size 432x288 with 1 Axes>"
            ]
          },
          "metadata": {
            "tags": []
          }
        }
      ]
    },
    {
      "cell_type": "code",
      "metadata": {
        "id": "BuL_cNEYuNuH",
        "colab_type": "code",
        "colab": {
          "base_uri": "https://localhost:8080/",
          "height": 34
        },
        "outputId": "8fce530e-0580-4e73-b6c2-049a9a8c4a3e"
      },
      "source": [
        "from scipy.spatial import distance\n",
        "\n",
        "def euc(a,b):\n",
        "  return distance.euclidean(a,b)\n",
        "\n",
        "class ScrappyKNN():\n",
        "  def fit(self, X_train, y_train):\n",
        "    self.X_train = X_train\n",
        "    self.y_train = y_train\n",
        "\n",
        "  \n",
        "  def predict(self, X_test):\n",
        "    predictions = []\n",
        "    for row in X_test:\n",
        "      label = self.closest(row)\n",
        "      predictions.append(label)\n",
        "    return predictions\n",
        "  \n",
        "  def closest(self, row):\n",
        "    best_dist = euc(row, self.X_train[0])\n",
        "    best_index = 0\n",
        "    for i in range(1, len(self.X_train)):\n",
        "      dist = euc(row, self.X_train[i])\n",
        "      if dist < best_dist:\n",
        "        best_dist = dist\n",
        "        best_index = i\n",
        "    return self.y_train[best_index]\n",
        "\n",
        "from sklearn import datasets\n",
        "iris = datasets.load_iris()\n",
        "\n",
        "X = iris.data\n",
        "y = iris.target\n",
        "\n",
        "from sklearn.model_selection import train_test_split\n",
        "X_train, X_test, y_train, y_test = train_test_split(X, y, test_size = .5)\n",
        "\n",
        "#from sklearn.neighbors import KNeighborsClassifier\n",
        "my_cls = ScrappyKNN()\n",
        "my_cls.fit(X_train, y_train)\n",
        "\n",
        "predict = my_cls.predict(X_test)\n",
        "\n",
        "from sklearn.metrics import accuracy_score\n",
        "print(accuracy_score(y_test, predict))"
      ],
      "execution_count": 42,
      "outputs": [
        {
          "output_type": "stream",
          "text": [
            "0.96\n"
          ],
          "name": "stdout"
        }
      ]
    }
  ]
}