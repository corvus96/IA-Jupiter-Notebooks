{
  "nbformat": 4,
  "nbformat_minor": 0,
  "metadata": {
    "colab": {
      "name": "Tensorflow_first_steps.ipynb",
      "provenance": []
    },
    "kernelspec": {
      "name": "python3",
      "display_name": "Python 3"
    }
  },
  "cells": [
    {
      "cell_type": "markdown",
      "metadata": {
        "id": "7LzVEvuZltRG",
        "colab_type": "text"
      },
      "source": [
        "# Celcius to farenheit"
      ]
    },
    {
      "cell_type": "code",
      "metadata": {
        "id": "ztwSAFtnljcA",
        "colab_type": "code",
        "colab": {}
      },
      "source": [
        "import tensorflow as tf\n",
        "import numpy as np"
      ],
      "execution_count": 20,
      "outputs": []
    },
    {
      "cell_type": "markdown",
      "metadata": {
        "id": "A58z6D-VnMxM",
        "colab_type": "text"
      },
      "source": [
        "## Set up training data"
      ]
    },
    {
      "cell_type": "code",
      "metadata": {
        "id": "fEBXJzzWnQf4",
        "colab_type": "code",
        "colab": {}
      },
      "source": [
        "celsius_q = np.array([-40, -10, 0, 8, 15, 22, 38], dtype=float)\n",
        "farenheit_a = np.array([-40, 14, 32, 46, 59, 72, 100], dtype=float)\n"
      ],
      "execution_count": 21,
      "outputs": []
    },
    {
      "cell_type": "markdown",
      "metadata": {
        "id": "v_-b1Jbwrg-I",
        "colab_type": "text"
      },
      "source": [
        "### Build a single layer\n",
        "To train a model that can pass celsius inputs to farenheit\n",
        "\n",
        "> input_shape = [1] - this specifies that the input to this layer is a single value\n",
        "\n",
        "> units = 1 - this specifies the number of neurons in the layer\n",
        "\n"
      ]
    },
    {
      "cell_type": "code",
      "metadata": {
        "id": "HXlain0nr0lx",
        "colab_type": "code",
        "colab": {}
      },
      "source": [
        "IO = tf.keras.layers.Dense(units=1, input_shape=[1])"
      ],
      "execution_count": 22,
      "outputs": []
    },
    {
      "cell_type": "markdown",
      "metadata": {
        "id": "deqJnWm6tdjz",
        "colab_type": "text"
      },
      "source": [
        "**Assemble layers into the model**"
      ]
    },
    {
      "cell_type": "code",
      "metadata": {
        "id": "IV_2bqJBtnS_",
        "colab_type": "code",
        "colab": {}
      },
      "source": [
        "model = tf.keras.Sequential([IO])"
      ],
      "execution_count": 23,
      "outputs": []
    },
    {
      "cell_type": "markdown",
      "metadata": {
        "id": "CCoiu_m0t5I7",
        "colab_type": "text"
      },
      "source": [
        "**Note**\n",
        "\n",
        "You will often see the layers defined inside the model definition, rather than beforehand:\n",
        "\n",
        "\n",
        "\n",
        "```\n",
        "model = tf.keras.Sequential([\n",
        "  tf.keras.layers.Dense(units=1, input_shape=[1])\n",
        "])\n",
        "```\n",
        "\n"
      ]
    },
    {
      "cell_type": "markdown",
      "metadata": {
        "id": "a2sYWoXpui-8",
        "colab_type": "text"
      },
      "source": [
        "### **Compile the model, with loss and optimizer functions**\n",
        "\n",
        "> **Loss function** - A way of measuring how far off predictions are from the desired outcome.\n",
        "\n",
        "\n",
        "\n",
        "> **Optimizer function** A way of adjusting internal values in order to reduce the loss.\n"
      ]
    },
    {
      "cell_type": "code",
      "metadata": {
        "id": "wYCEShERucWK",
        "colab_type": "code",
        "colab": {}
      },
      "source": [
        "model.compile(loss=\"mean_squared_error\",\n",
        "              optimizer=tf.keras.optimizers.Adam(0.1))"
      ],
      "execution_count": 24,
      "outputs": []
    },
    {
      "cell_type": "markdown",
      "metadata": {
        "id": "sT8QWgD9wB6J",
        "colab_type": "text"
      },
      "source": [
        "### **Train the model**"
      ]
    },
    {
      "cell_type": "code",
      "metadata": {
        "id": "7pBC4gYFwLaO",
        "colab_type": "code",
        "colab": {
          "base_uri": "https://localhost:8080/",
          "height": 34
        },
        "outputId": "b638c2f9-87b3-4872-f7fb-d7bd0053d957"
      },
      "source": [
        "history = model.fit(celsius_q, farenheit_a, epochs=500, verbose=False)\n",
        "print(\"Finished training the model\")"
      ],
      "execution_count": 25,
      "outputs": [
        {
          "output_type": "stream",
          "text": [
            "Finished training the model\n"
          ],
          "name": "stdout"
        }
      ]
    },
    {
      "cell_type": "markdown",
      "metadata": {
        "id": "Ml7YYwzqwufL",
        "colab_type": "text"
      },
      "source": [
        "## **Display training statistics**"
      ]
    },
    {
      "cell_type": "code",
      "metadata": {
        "id": "azyr-zuqwrJR",
        "colab_type": "code",
        "colab": {
          "base_uri": "https://localhost:8080/",
          "height": 296
        },
        "outputId": "dcdad243-8437-4279-cb54-a507d2eb3030"
      },
      "source": [
        "import matplotlib.pyplot as plt\n",
        "plt.xlabel(\"Epoch number\")\n",
        "plt.ylabel(\"Loss magnitude\")\n",
        "plt.plot(history.history['loss'])"
      ],
      "execution_count": 26,
      "outputs": [
        {
          "output_type": "execute_result",
          "data": {
            "text/plain": [
              "[<matplotlib.lines.Line2D at 0x7f1757f6abe0>]"
            ]
          },
          "metadata": {
            "tags": []
          },
          "execution_count": 26
        },
        {
          "output_type": "display_data",
          "data": {
            "image/png": "[encoded data removed]",
            "text/plain": [
              "<Figure size 432x288 with 1 Axes>"
            ]
          },
          "metadata": {
            "tags": [],
            "needs_background": "light"
          }
        }
      ]
    },
    {
      "cell_type": "markdown",
      "metadata": {
        "id": "SwMXryClxZdH",
        "colab_type": "text"
      },
      "source": [
        "## **Use the model to predict values**"
      ]
    },
    {
      "cell_type": "code",
      "metadata": {
        "id": "7blcUgLaxYVa",
        "colab_type": "code",
        "colab": {
          "base_uri": "https://localhost:8080/",
          "height": 34
        },
        "outputId": "acfee37f-51aa-4b1c-f7a8-29b61d88b6fd"
      },
      "source": [
        "print(model.predict([100.0]))"
      ],
      "execution_count": 27,
      "outputs": [
        {
          "output_type": "stream",
          "text": [
            "[[211.28859]]\n"
          ],
          "name": "stdout"
        }
      ]
    },
    {
      "cell_type": "markdown",
      "metadata": {
        "id": "323V0HJ3x4av",
        "colab_type": "text"
      },
      "source": [
        "## **Looking at the layer weights**"
      ]
    },
    {
      "cell_type": "code",
      "metadata": {
        "id": "1wdsicAex-r1",
        "colab_type": "code",
        "colab": {
          "base_uri": "https://localhost:8080/",
          "height": 54
        },
        "outputId": "3ddbb093-da68-4296-96a6-1ad65283a054"
      },
      "source": [
        "print(\"These are the layer variables: {}\".format(IO.get_weights()))"
      ],
      "execution_count": 28,
      "outputs": [
        {
          "output_type": "stream",
          "text": [
            "These are the layer variables: [array([[1.8272438]], dtype=float32), array([28.564209], dtype=float32)]\n"
          ],
          "name": "stdout"
        }
      ]
    }
  ]
}