{
  "nbformat": 4,
  "nbformat_minor": 0,
  "metadata": {
    "colab": {
      "name": "Udacity-Bertelsmann-Notebook-3.ipynb",
      "provenance": [],
      "collapsed_sections": []
    },
    "kernelspec": {
      "name": "python3",
      "display_name": "Python 3"
    }
  },
  "cells": [
    {
      "cell_type": "markdown",
      "metadata": {
        "id": "Iii-Tf3y96qI",
        "colab_type": "text"
      },
      "source": [
        "# **Split two points**\n",
        "---\n",
        "which solution gives a smaller error:\n",
        "\n",
        "**Solution 1:** $$ X_{1} + X_{2} $$\n",
        "\n",
        "**Solution 2:** $$ 10X_{1} + 10X_{2} $$\n",
        "\n",
        "Remember prediction is: $$ \\hat{y} = \\sigma(w_{1}x_{1}+w_{2}x_{2}+b) $$\n"
      ]
    },
    {
      "cell_type": "code",
      "metadata": {
        "id": "dM-g8XBp6spn",
        "colab_type": "code",
        "outputId": "ef1e7c2a-ff00-4b97-e062-1dcd174dddff",
        "colab": {
          "base_uri": "https://localhost:8080/",
          "height": 68
        }
      },
      "source": [
        "import numpy as np\n",
        "def sigmoid(x):\n",
        "  return 1/(1+np.exp(-x))\n",
        "\n",
        "def output_formula(features, weights):\n",
        "    return sigmoid(np.dot(features,weights))\n",
        "\n",
        "def error_formula(y, output):\n",
        "    return -y * np.log(output) - (1 - y) * np.log(1-output)\n",
        "features = np.array([[1, 1], [-1, -1]])\n",
        "targets = np.array([[1], [0]])\n",
        "weights = np.array([[1], [1]]) # You only need change the weights (10,10) to (1,1) or (1,1) to (10,10)\n",
        "for x, y in zip(features, targets):\n",
        "            output = output_formula(x, weights)\n",
        "            error = error_formula(y, output)\n",
        "out = output_formula(features, weights)\n",
        "loss = np.mean(error_formula(targets, out))      \n",
        "print(out)\n",
        "print(loss)\n"
      ],
      "execution_count": 60,
      "outputs": [
        {
          "output_type": "stream",
          "text": [
            "[[0.88079708]\n",
            " [0.11920292]]\n",
            "0.12692801104297258\n"
          ],
          "name": "stdout"
        }
      ]
    },
    {
      "cell_type": "markdown",
      "metadata": {
        "id": "12v1GeeQBpXR",
        "colab_type": "text"
      },
      "source": [
        "## Pytorch\n",
        "##funcionalities\n",
        "---"
      ]
    },
    {
      "cell_type": "code",
      "metadata": {
        "id": "2jdtofcXBoXo",
        "colab_type": "code",
        "colab": {}
      },
      "source": [
        "import torch"
      ],
      "execution_count": 0,
      "outputs": []
    },
    {
      "cell_type": "code",
      "metadata": {
        "id": "0r3szmACB9zM",
        "colab_type": "code",
        "colab": {}
      },
      "source": [
        "def activation(x):\n",
        "  \"\"\" Sigmoid activation function\n",
        "  Arguments\n",
        "  ---------\n",
        "  x: torch.Tensor\n",
        "  \"\"\"\n",
        "  return 1/(1+torch.exp(-x))"
      ],
      "execution_count": 0,
      "outputs": []
    },
    {
      "cell_type": "code",
      "metadata": {
        "id": "yQNLmDrtCk2S",
        "colab_type": "code",
        "colab": {}
      },
      "source": [
        "### Create some data\n",
        "torch.manual_seed(7) # Set the random seed so things are predictable\n",
        "\n",
        "## Features are 5 random normal variables\n",
        "features = torch.randn((1,5)) # creates a tensor with shape (1,5) that contains values distribuited acording\n",
        "                              # to the normal distribution with a mean of 0 and standard desviation of 1\n",
        "## True weights for our data, random normal variables again\n",
        "weights = torch.randn_like(features) # creates another tensor with the same shape of features\n",
        "# And a true bias term \n",
        "bias = torch.randn((1,1))"
      ],
      "execution_count": 0,
      "outputs": []
    },
    {
      "cell_type": "markdown",
      "metadata": {
        "id": "q6h_yx3QOs8Y",
        "colab_type": "text"
      },
      "source": [
        "**To do a matrix multiplication you can use:**\n",
        "\n",
        "`torch.mm(features,weights) ` or `torch.matmul(features,weights) `\n",
        "\n",
        "**To resize your tensor, you can use:**\n",
        "\n",
        "*   `variable.reshape(a,b)` will return a new tensor with the same data as \n",
        "`variable` with the size(a,b) sometimes, and sometimes a clone, as in it copies the data to another part of memory\n",
        "*   `variable.resize_(a,b) ` returns the same tensor with a different shape. However, if the new shape results in fewer elements than the original tensor (but not from memory). If the new shape results in more elements than the original tensor, new elments will be unitialized in memory.\n",
        "*   `variable.view(a,b) ` will return a new tensor with the same data as \n",
        "`variable` with the size(a,b)\n",
        "\n",
        "\n",
        "\n"
      ]
    },
    {
      "cell_type": "code",
      "metadata": {
        "id": "oTlrMeRCOrQ2",
        "colab_type": "code",
        "outputId": "91fd1c65-20ea-466a-c781-016853fe6509",
        "colab": {
          "base_uri": "https://localhost:8080/",
          "height": 51
        }
      },
      "source": [
        "### Other form with .sum()\n",
        "y = activation(torch.sum(weights * features) + bias)\n",
        "print(y)\n",
        "activation(torch.mm(weights, features.view(5,1)) + bias)"
      ],
      "execution_count": 64,
      "outputs": [
        {
          "output_type": "stream",
          "text": [
            "tensor([[0.1595]])\n"
          ],
          "name": "stdout"
        },
        {
          "output_type": "execute_result",
          "data": {
            "text/plain": [
              "tensor([[0.1595]])"
            ]
          },
          "metadata": {
            "tags": []
          },
          "execution_count": 64
        }
      ]
    },
    {
      "cell_type": "code",
      "metadata": {
        "id": "jTAonI24-T7Q",
        "colab_type": "code",
        "colab": {}
      },
      "source": [
        "# Generate some data \n",
        "torch.manual_seed(7) # Set the random seed so things are predictable\n",
        "\n",
        "# Features are 3 random normal variables \n",
        "features = torch.randn((1,3))\n",
        "\n",
        "# Define the size of  each layer in our network\n",
        "n_input = features.shape[1]       # number of input units, must match number of input features\n",
        "n_hidden = 2                      # number of hidden units\n",
        "n_output = 1                      # number of output units\n",
        "\n",
        "# Weights for inputs to hidden layer\n",
        "W1 = torch.randn(n_input,n_hidden)\n",
        "\n",
        "# Weights for hidden layers to output\n",
        "W2 = torch.randn(n_hidden,n_output)\n",
        "\n",
        "# And bias terms for hidden and output layers\n",
        "B1 = torch.randn((1,n_hidden))\n",
        "B2 = torch.randn((1,n_output))\n",
        "\n",
        "h = activation(torch.mm(features, W1) + B1 )\n",
        "output = activation(torch.mm(h, W2) + B2 )\n"
      ],
      "execution_count": 0,
      "outputs": []
    },
    {
      "cell_type": "markdown",
      "metadata": {
        "id": "-LnK3PMDJcIv",
        "colab_type": "text"
      },
      "source": [
        "## **Numpy to torch and back**\n",
        "---"
      ]
    },
    {
      "cell_type": "code",
      "metadata": {
        "id": "XHMKxO-tJm8h",
        "colab_type": "code",
        "outputId": "fe8649d8-647e-4b88-e9de-8345eea03682",
        "colab": {
          "base_uri": "https://localhost:8080/",
          "height": 85
        }
      },
      "source": [
        "import numpy as np\n",
        "\n",
        "a  = np.random.rand(4,3)\n",
        "a"
      ],
      "execution_count": 66,
      "outputs": [
        {
          "output_type": "execute_result",
          "data": {
            "text/plain": [
              "array([[0.74496944, 0.68649568, 0.28245391],\n",
              "       [0.14793153, 0.26640771, 0.55684472],\n",
              "       [0.09026319, 0.45217134, 0.84413061],\n",
              "       [0.98005796, 0.93923061, 0.11866721]])"
            ]
          },
          "metadata": {
            "tags": []
          },
          "execution_count": 66
        }
      ]
    },
    {
      "cell_type": "code",
      "metadata": {
        "id": "0w9qHg36J3no",
        "colab_type": "code",
        "outputId": "d388920f-c146-4fb8-b522-445c4ca6c579",
        "colab": {
          "base_uri": "https://localhost:8080/",
          "height": 85
        }
      },
      "source": [
        "b = torch.from_numpy(a)\n",
        "b"
      ],
      "execution_count": 67,
      "outputs": [
        {
          "output_type": "execute_result",
          "data": {
            "text/plain": [
              "tensor([[0.7450, 0.6865, 0.2825],\n",
              "        [0.1479, 0.2664, 0.5568],\n",
              "        [0.0903, 0.4522, 0.8441],\n",
              "        [0.9801, 0.9392, 0.1187]], dtype=torch.float64)"
            ]
          },
          "metadata": {
            "tags": []
          },
          "execution_count": 67
        }
      ]
    },
    {
      "cell_type": "code",
      "metadata": {
        "id": "vYgAViccKDBX",
        "colab_type": "code",
        "outputId": "d3ac6d70-f2b1-486c-9d4f-b392f9287f78",
        "colab": {
          "base_uri": "https://localhost:8080/",
          "height": 85
        }
      },
      "source": [
        "b.numpy()"
      ],
      "execution_count": 68,
      "outputs": [
        {
          "output_type": "execute_result",
          "data": {
            "text/plain": [
              "array([[0.74496944, 0.68649568, 0.28245391],\n",
              "       [0.14793153, 0.26640771, 0.55684472],\n",
              "       [0.09026319, 0.45217134, 0.84413061],\n",
              "       [0.98005796, 0.93923061, 0.11866721]])"
            ]
          },
          "metadata": {
            "tags": []
          },
          "execution_count": 68
        }
      ]
    },
    {
      "cell_type": "markdown",
      "metadata": {
        "id": "6uahwRh6LAn3",
        "colab_type": "text"
      },
      "source": [
        "The memory is shared between the numpy array and torch tensor, so if you change the values in_place of one object , the other will change as well"
      ]
    },
    {
      "cell_type": "code",
      "metadata": {
        "id": "rQHwnKZjK_1k",
        "colab_type": "code",
        "outputId": "d5e23bf1-430f-41a6-bbfc-57677e0c7bd5",
        "colab": {
          "base_uri": "https://localhost:8080/",
          "height": 85
        }
      },
      "source": [
        "# Multiply pytorch tensor by 2, in place \n",
        "b.mul_(2)"
      ],
      "execution_count": 69,
      "outputs": [
        {
          "output_type": "execute_result",
          "data": {
            "text/plain": [
              "tensor([[1.4899, 1.3730, 0.5649],\n",
              "        [0.2959, 0.5328, 1.1137],\n",
              "        [0.1805, 0.9043, 1.6883],\n",
              "        [1.9601, 1.8785, 0.2373]], dtype=torch.float64)"
            ]
          },
          "metadata": {
            "tags": []
          },
          "execution_count": 69
        }
      ]
    },
    {
      "cell_type": "markdown",
      "metadata": {
        "id": "JQpRlzHXJ7yM",
        "colab_type": "text"
      },
      "source": [
        "### Neural networks  with pytorch "
      ]
    },
    {
      "cell_type": "code",
      "metadata": {
        "id": "dEW-jYvVLiTl",
        "colab_type": "code",
        "colab": {}
      },
      "source": [
        "# Import necesary packages\n",
        "\n",
        "%matplotlib inline\n",
        "%config InlineBackend.figure_format = 'retina'\n",
        "\n",
        "import numpy as np\n",
        "import torch\n",
        "\n",
        "import helper\n",
        "\n",
        "import matplotlib.pyplot as plt\n"
      ],
      "execution_count": 0,
      "outputs": []
    },
    {
      "cell_type": "markdown",
      "metadata": {
        "id": "aHE35JWPMX7P",
        "colab_type": "text"
      },
      "source": [
        "Next I'll import a dataset inside torchvision named MNIST, dataset consists of greyscale handwritten digits. Each image is 28x28 pixels."
      ]
    },
    {
      "cell_type": "code",
      "metadata": {
        "id": "IKeuy0biM635",
        "colab_type": "code",
        "colab": {}
      },
      "source": [
        "### Run this cell\n",
        "\n",
        "from torchvision import datasets, transforms\n",
        "\n",
        "# Define a transform to normalize the data\n",
        "transform = transforms.Compose([transforms.ToTensor(),\n",
        "                              transforms.Normalize((0.5,), (0.5,)),\n",
        "                              ])\n",
        "\n",
        "# Download and load the training data\n",
        "trainset = datasets.MNIST('~/.pytorch/MNIST_data/', download=True, train=True, transform=transform)\n",
        "trainloader = torch.utils.data.DataLoader(trainset, batch_size=64, shuffle=True)"
      ],
      "execution_count": 0,
      "outputs": []
    },
    {
      "cell_type": "markdown",
      "metadata": {
        "id": "hgwhI6NZXEnQ",
        "colab_type": "text"
      },
      "source": [
        "We have the training data loaded into `trainloader ` and we make that in an iterator with iter(trainloader). Later  we´ll use this loop through the dataset for training, like:\n",
        "\n"
      ]
    },
    {
      "cell_type": "code",
      "metadata": {
        "id": "dDOijkXbYS40",
        "colab_type": "code",
        "colab": {}
      },
      "source": [
        "#for image, label in trainloader:\n",
        "  #  Do things with images and labels "
      ],
      "execution_count": 0,
      "outputs": []
    },
    {
      "cell_type": "markdown",
      "metadata": {
        "id": "z0OVlfHNYlD6",
        "colab_type": "text"
      },
      "source": [
        "You'll notice I created the `trainloader` with a batch size of 64, and `shuffle=True`. The batch size is the number of images we get in one iteration from the data loader and pass through our network, often called a batch. And `shuffle=True` tells it to shuffle the dataset every time we start going through the data loader again. But here I'm just grabbing the first batch so we can check out the data. We can see below that `images ` is just a tensor with size (64, 1, 28, 28). So 64 images per batch, 1 color channel and 28x28 images"
      ]
    },
    {
      "cell_type": "code",
      "metadata": {
        "id": "efa_izs0agzW",
        "colab_type": "code",
        "outputId": "b1684878-c804-472d-92fb-d2fab8f5e40e",
        "colab": {
          "base_uri": "https://localhost:8080/",
          "height": 68
        }
      },
      "source": [
        "dataiter = iter(trainloader)\n",
        "images, labels = dataiter.next()\n",
        "print(type(images))\n",
        "print(images.shape)\n",
        "print(labels.shape)"
      ],
      "execution_count": 73,
      "outputs": [
        {
          "output_type": "stream",
          "text": [
            "<class 'torch.Tensor'>\n",
            "torch.Size([64, 1, 28, 28])\n",
            "torch.Size([64])\n"
          ],
          "name": "stdout"
        }
      ]
    },
    {
      "cell_type": "code",
      "metadata": {
        "id": "7dXWIceva7hE",
        "colab_type": "code",
        "outputId": "cea18874-9f50-4403-9954-ec9ec978acdf",
        "colab": {
          "base_uri": "https://localhost:8080/",
          "height": 265
        }
      },
      "source": [
        "plt.imshow(images[1].numpy().squeeze(), cmap='Greys_r');"
      ],
      "execution_count": 74,
      "outputs": [
        {
          "output_type": "display_data",
          "data": {
            "image/png": "[encoded data removed]",
            "text/plain": [
              "<Figure size 432x288 with 1 Axes>"
            ]
          },
          "metadata": {
            "tags": [],
            "image/png": {
              "width": 251,
              "height": 248
            }
          }
        }
      ]
    },
    {
      "cell_type": "markdown",
      "metadata": {
        "id": "LfRm0w1Ntu1x",
        "colab_type": "text"
      },
      "source": [
        "First, let's try to build a simple network for this dataset using weight matrices and matrix multiplications. Then, we'll see how to do it using PyTorch's nn module which provides a much more convenient and powerful method for defining network architectures.\n",
        "\n",
        "The networks you've seen so far are called fully-connected or dense networks. Each unit in one layer is connected to each unit in the next layer. In fully-connected networks, the input to each layer must be a one-dimensional vector (which can be stacked into a 2D tensor as a batch of multiple examples). However, our images are 28x28 2D tensors, so we need to convert them into 1D vectors. Thinking about sizes, we need to convert the batch of images with shape (64, 1, 28, 28) to a have a shape of (64, 784), 784 is 28 times 28. This is typically called flattening, we flattened the 2D images into 1D vectors.\n",
        "\n",
        "Previously you built a network with one output unit. Here we need 10 output units, one for each digit. We want our network to predict the digit shown in an image, so what we'll do is calculate probabilities that the image is of any one digit or class. This ends up being a discrete probability distribution over the classes (digits) that tells us the most likely class for the image. That means we need 10 output units for the 10 classes (digits). We'll see how to convert the network output into a probability distribution next.\n",
        "\n",
        "\n",
        "\n",
        "*   **Exercise:** Flatten the batch of images images. Then build a multi-layer network with 784 input units, 256 hidden units, and 10 output units using random tensors for the weights and biases. For now, use a sigmoid activation for the hidden layer. Leave the output layer without an activation, we'll add one that gives us a probability distribution next.\n",
        "\n"
      ]
    },
    {
      "cell_type": "code",
      "metadata": {
        "id": "Wvb-BJsK7IBX",
        "colab_type": "code",
        "colab": {
          "base_uri": "https://localhost:8080/",
          "height": 34
        },
        "outputId": "1ddf1c91-78eb-4eae-e564-15d475a95087"
      },
      "source": [
        "def activation(x):\n",
        "  return 1/(1+torch.exp(-x))\n",
        "\n",
        "# Flatten the inputs\n",
        "inputs = images.view(images.shape[0], -1)\n",
        "\n",
        "# Create parameters\n",
        "w1 = torch.randn(784,256)\n",
        "b1 = torch.randn(256)\n",
        "\n",
        "w2 = torch.randn(256,10)\n",
        "b2 = torch.randn(10)\n",
        "\n",
        "h = activation(torch.mm(inputs, w1) + b1 )\n",
        "out = torch.mm(h, w2) + b2\n",
        "print(out.shape)"
      ],
      "execution_count": 75,
      "outputs": [
        {
          "output_type": "stream",
          "text": [
            "torch.Size([64, 10])\n"
          ],
          "name": "stdout"
        }
      ]
    },
    {
      "cell_type": "markdown",
      "metadata": {
        "id": "_thYZZ-Qz504",
        "colab_type": "text"
      },
      "source": [
        "Now we have 10 outputs for our network. We want to pass in an image to our network and get out a probability distribution over the classes that tells us the likely class(es) the image belongs to. Something that looks like this:\n",
        "\n",
        "Here we see that the probability for each class is roughly the same. This is representing an untrained network, it hasn't seen any data yet so it just returns a uniform distribution with equal probabilities for each class.\n",
        "\n",
        "$$ \\sigma(x_{i}) = \\frac{e^{x_{i}}}{\\sum_{k}^{K} e^{x_{k}}} $$\n",
        "\n",
        "What this does is squish each input $x_i$ between 0 and 1 and normalizes the values to give you a proper probability distribution where the probabilites sum up to one.\n",
        "\n",
        "\n",
        "\n",
        "> **Exercise:** Implement a function softmax that performs the softmax calculation and returns probability distributions for each example in the batch. Note that you'll need to pay attention to the shapes when doing this. If you have a tensor a with shape (64, 10) and a tensor b with shape (64,), doing a/b will give you an error because PyTorch will try to do the division across the columns (called broadcasting) but you'll get a size mismatch. The way to think about this is for each of the 64 examples, you only want to divide by one value, the sum in the denominator. So you need b to have a shape of (64, 1). This way PyTorch will divide the 10 values in each row of a by the one value in each row of b. Pay attention to how you take the sum as well. You'll need to define the dim keyword in torch.sum. Setting dim=0 takes the sum across the rows while dim=1 takes the sum across the columns.\n",
        "\n"
      ]
    },
    {
      "cell_type": "code",
      "metadata": {
        "id": "Xlzlddsk1-vO",
        "colab_type": "code",
        "colab": {
          "base_uri": "https://localhost:8080/",
          "height": 170
        },
        "outputId": "122b241d-4d76-4b20-d81c-c46423b055e7"
      },
      "source": [
        "def softmax(x):\n",
        "  return torch.exp(x) / torch.sum(torch.exp(x), dim=1).view(-1,1)\n",
        "probabilities = softmax(out)\n",
        "\n",
        "# Does it have the right shape? Should be (64, 10)\n",
        "print(probabilities.shape)\n",
        "# Does it sum to 1?\n",
        "print(probabilities.sum(dim=1))"
      ],
      "execution_count": 76,
      "outputs": [
        {
          "output_type": "stream",
          "text": [
            "torch.Size([64, 10])\n",
            "tensor([1.0000, 1.0000, 1.0000, 1.0000, 1.0000, 1.0000, 1.0000, 1.0000, 1.0000,\n",
            "        1.0000, 1.0000, 1.0000, 1.0000, 1.0000, 1.0000, 1.0000, 1.0000, 1.0000,\n",
            "        1.0000, 1.0000, 1.0000, 1.0000, 1.0000, 1.0000, 1.0000, 1.0000, 1.0000,\n",
            "        1.0000, 1.0000, 1.0000, 1.0000, 1.0000, 1.0000, 1.0000, 1.0000, 1.0000,\n",
            "        1.0000, 1.0000, 1.0000, 1.0000, 1.0000, 1.0000, 1.0000, 1.0000, 1.0000,\n",
            "        1.0000, 1.0000, 1.0000, 1.0000, 1.0000, 1.0000, 1.0000, 1.0000, 1.0000,\n",
            "        1.0000, 1.0000, 1.0000, 1.0000, 1.0000, 1.0000, 1.0000, 1.0000, 1.0000,\n",
            "        1.0000])\n"
          ],
          "name": "stdout"
        }
      ]
    },
    {
      "cell_type": "markdown",
      "metadata": {
        "id": "OOwBO8ARFLjQ",
        "colab_type": "text"
      },
      "source": [
        "###Building networks with PyTorch\n",
        "---\n",
        "PyTorch provides a module nn that makes building networks much simpler. Here I'll show you how to build the same one as above with 784 inputs, 256 hidden units, 10 output units and a softmax output."
      ]
    },
    {
      "cell_type": "code",
      "metadata": {
        "id": "4jTMVaE0FQWE",
        "colab_type": "code",
        "colab": {}
      },
      "source": [
        "from torch import nn\n",
        "class Network(nn.Module):\n",
        "    def __init__(self):\n",
        "        super().__init__()\n",
        "        \n",
        "        # Inputs to hidden layer linear transformation\n",
        "        self.hidden = nn.Linear(784, 256)\n",
        "        # Output layer, 10 units - one for each digit\n",
        "        self.output = nn.Linear(256, 10)\n",
        "        \n",
        "        # Define sigmoid activation and softmax output \n",
        "        self.sigmoid = nn.Sigmoid()\n",
        "        self.softmax = nn.Softmax(dim=1)\n",
        "        \n",
        "    def forward(self, x):\n",
        "        # Pass the input tensor through each of our operations\n",
        "        x = self.hidden(x)\n",
        "        x = self.sigmoid(x)\n",
        "        x = self.output(x)\n",
        "        x = self.softmax(x)\n",
        "        \n",
        "        return x"
      ],
      "execution_count": 0,
      "outputs": []
    },
    {
      "cell_type": "markdown",
      "metadata": {
        "id": "zumM54ELFZf-",
        "colab_type": "text"
      },
      "source": [
        "Let's go through this bit by bit.\n",
        "\n",
        "\n",
        "\n",
        "> `class Network(nn.Module):`\n",
        "\n",
        "\n",
        "Here we're inheriting from nn.Module. Combined with super().__init__() this creates a class that tracks the architecture and provides a lot of useful methods and attributes. It is mandatory to inherit from nn.Module when you're creating a class for your network. The name of the class itself can be anything.\n",
        "\n",
        "> `self.hidden = nn.Linear(784, 256)`\n",
        "\n",
        "This line creates a module for a linear transformation, $$x\\mathbf{W} + b$$, with 784 inputs and 256 outputs and assigns it to self.hidden. The module automatically creates the weight and bias tensors which we'll use in the forward method. You can access the weight and bias tensors once the network (net) is created with net.hidden.weight and net.hidden.bias.\n",
        "\n",
        ">`self.output = nn.Linear(256, 10)`\n",
        "\n",
        "Similarly, this creates another linear transformation with 256 inputs and 10 outputs.\n",
        "\n",
        ">`self.sigmoid = nn.Sigmoid()`\n",
        "\n",
        ">`self.softmax = nn.Softmax(dim=1)`\n",
        "\n",
        "Here I defined operations for the sigmoid activation and softmax output. Setting dim=1 in nn.Softmax(dim=1) calculates softmax across the columns.\n",
        "\n",
        ">def forward(self, x):\n",
        "\n",
        "PyTorch networks created with nn.Module must have a forward method defined. It takes in a tensor x and passes it through the operations you defined in the __init__ method.\n",
        "\n",
        ">` x = self.hidden(x)`\n",
        "\n",
        "> `x = self.sigmoid(x)`\n",
        "\n",
        "> `x = self.output(x)`\n",
        "\n",
        "> `x = self.softmax(x)`\n",
        "\n",
        "Here the input tensor x is passed through each operation and reassigned to x. We can see that the input tensor goes through the hidden layer, then a sigmoid function, then the output layer, and finally the softmax function. It doesn't matter what you name the variables here, as long as the inputs and outputs of the operations match the network architecture you want to build. The order in which you define things in the __init__ method doesn't matter, but you'll need to sequence the operations correctly in the forward method.\n",
        "\n",
        "Now we can create a Network object."
      ]
    },
    {
      "cell_type": "code",
      "metadata": {
        "id": "sNpVt4Q5Lbmf",
        "colab_type": "code",
        "colab": {
          "base_uri": "https://localhost:8080/",
          "height": 119
        },
        "outputId": "56b2663e-e1d0-4389-dcce-e7d4736e1a69"
      },
      "source": [
        "# Create the network and look at it's text representation\n",
        "model = Network()\n",
        "model"
      ],
      "execution_count": 78,
      "outputs": [
        {
          "output_type": "execute_result",
          "data": {
            "text/plain": [
              "Network(\n",
              "  (hidden): Linear(in_features=784, out_features=256, bias=True)\n",
              "  (output): Linear(in_features=256, out_features=10, bias=True)\n",
              "  (sigmoid): Sigmoid()\n",
              "  (softmax): Softmax(dim=1)\n",
              ")"
            ]
          },
          "metadata": {
            "tags": []
          },
          "execution_count": 78
        }
      ]
    },
    {
      "cell_type": "markdown",
      "metadata": {
        "id": "AeVLOK6HLgTD",
        "colab_type": "text"
      },
      "source": [
        "You can define the network somewhat more concisely and clearly using the torch.nn.functional module. This is the most common way you'll see networks defined as many operations are simple element-wise functions. We normally import this module as F, import torch.nn.functional as F."
      ]
    },
    {
      "cell_type": "code",
      "metadata": {
        "id": "gosdp6uULhSs",
        "colab_type": "code",
        "colab": {}
      },
      "source": [
        "import torch.nn.functional as F\n",
        "\n",
        "class Network(nn.Module):\n",
        "    def __init__(self):\n",
        "        super().__init__()\n",
        "        # Inputs to hidden layer linear transformation\n",
        "        self.hidden = nn.Linear(784, 256)\n",
        "        # Output layer, 10 units - one for each digit\n",
        "        self.output = nn.Linear(256, 10)\n",
        "        \n",
        "    def forward(self, x):\n",
        "        # Hidden layer with sigmoid activation\n",
        "        x = F.sigmoid(self.hidden(x))\n",
        "        # Output layer with softmax activation\n",
        "        x = F.softmax(self.output(x), dim=1)\n",
        "        \n",
        "        return x"
      ],
      "execution_count": 0,
      "outputs": []
    },
    {
      "cell_type": "markdown",
      "metadata": {
        "id": "vukfBNt1NQqc",
        "colab_type": "text"
      },
      "source": [
        "> **Exercise:** Create a network with 784 input units, a hidden layer with 128 units and a ReLU activation, then a hidden layer with 64 units and a ReLU activation, and finally an output layer with a softmax activation as shown above. You can use a ReLU activation with the nn.ReLU module or F.relu function.\n",
        "\n",
        "It's good practice to name your layers by their type of network, for instance 'fc' to represent a fully-connected layer. As you code your solution, use fc1, fc2, and fc3 as your layer names."
      ]
    },
    {
      "cell_type": "code",
      "metadata": {
        "id": "gDH8eBqmZt1a",
        "colab_type": "code",
        "colab": {
          "base_uri": "https://localhost:8080/",
          "height": 102
        },
        "outputId": "d7bc77ea-5f4f-4a05-fff3-974e3d53262f"
      },
      "source": [
        "import torch.nn.functional as F\n",
        "\n",
        "class Network(nn.Module):\n",
        "    def __init__(self):\n",
        "        super().__init__()\n",
        "        # Inputs to fully-connected layer-1 linear transformation\n",
        "        self.fc1 = nn.Linear(784, 128)\n",
        "        # fully-connected layer-1 to fully-connected layer-2 linear transformation\n",
        "        self.fc2 = nn.Linear(128, 64)\n",
        "        # Output layer, 10 unitsfor each digit\n",
        "        self.fc3 = nn.Linear(64, 10)\n",
        "\n",
        "    def forward(self, x):\n",
        "        # fc1 layer with ReLu activation\n",
        "        x = F.relu(self.fc1(x))\n",
        "        # fc2 layer with ReLu activation\n",
        "        x = F.relu(self.fc2(x))\n",
        "        # Output layer with softmax activation\n",
        "        x = F.softmax(self.fc3(x), dim=1)\n",
        "        return x\n",
        "\n",
        "model = Network()\n",
        "model"
      ],
      "execution_count": 80,
      "outputs": [
        {
          "output_type": "execute_result",
          "data": {
            "text/plain": [
              "Network(\n",
              "  (fc1): Linear(in_features=784, out_features=128, bias=True)\n",
              "  (fc2): Linear(in_features=128, out_features=64, bias=True)\n",
              "  (fc3): Linear(in_features=64, out_features=10, bias=True)\n",
              ")"
            ]
          },
          "metadata": {
            "tags": []
          },
          "execution_count": 80
        }
      ]
    },
    {
      "cell_type": "markdown",
      "metadata": {
        "id": "uKWC9aODh1tk",
        "colab_type": "text"
      },
      "source": [
        "##Initializing weights and biases\n",
        "---\n",
        "The weights and such are automatically initialized for you, but it's possible to customize how they are initialized. The weights and biases are tensors attached to the layer you defined, you can get them with model.fc1.weight for instance."
      ]
    },
    {
      "cell_type": "code",
      "metadata": {
        "id": "3TTwhtEyh62e",
        "colab_type": "code",
        "colab": {
          "base_uri": "https://localhost:8080/",
          "height": 476
        },
        "outputId": "3a2f9f01-9716-4561-91da-f896dc5c08f8"
      },
      "source": [
        "print(model.fc1.weight)\n",
        "print(model.fc1.bias)"
      ],
      "execution_count": 81,
      "outputs": [
        {
          "output_type": "stream",
          "text": [
            "Parameter containing:\n",
            "tensor([[-0.0033, -0.0026, -0.0164,  ..., -0.0308,  0.0194,  0.0055],\n",
            "        [-0.0038,  0.0220,  0.0195,  ...,  0.0263, -0.0158,  0.0255],\n",
            "        [-0.0271,  0.0259, -0.0018,  ..., -0.0255, -0.0197,  0.0196],\n",
            "        ...,\n",
            "        [-0.0226, -0.0048, -0.0072,  ..., -0.0170,  0.0275, -0.0274],\n",
            "        [-0.0028,  0.0030,  0.0137,  ..., -0.0046, -0.0090,  0.0115],\n",
            "        [-0.0302,  0.0081, -0.0323,  ..., -0.0194, -0.0074,  0.0023]],\n",
            "       requires_grad=True)\n",
            "Parameter containing:\n",
            "tensor([ 0.0167,  0.0271,  0.0063, -0.0016,  0.0206, -0.0016,  0.0036, -0.0076,\n",
            "         0.0105, -0.0310, -0.0025, -0.0094,  0.0347, -0.0294, -0.0061,  0.0052,\n",
            "         0.0052,  0.0115,  0.0229, -0.0134, -0.0010,  0.0006, -0.0315,  0.0100,\n",
            "        -0.0288,  0.0176,  0.0343,  0.0254, -0.0033,  0.0076, -0.0077, -0.0086,\n",
            "         0.0209, -0.0210,  0.0286,  0.0117, -0.0188,  0.0013, -0.0105, -0.0211,\n",
            "         0.0009,  0.0022, -0.0245,  0.0222, -0.0050, -0.0263, -0.0247, -0.0289,\n",
            "         0.0260,  0.0025,  0.0036, -0.0316,  0.0287, -0.0115,  0.0257,  0.0206,\n",
            "        -0.0044, -0.0181,  0.0273,  0.0284,  0.0059, -0.0242, -0.0130,  0.0023,\n",
            "         0.0158,  0.0281,  0.0183,  0.0060, -0.0267, -0.0293, -0.0307, -0.0172,\n",
            "         0.0064, -0.0238, -0.0104,  0.0190, -0.0297, -0.0215, -0.0191,  0.0142,\n",
            "         0.0049,  0.0286, -0.0052,  0.0046,  0.0253,  0.0225,  0.0188,  0.0005,\n",
            "        -0.0252, -0.0042,  0.0295, -0.0283, -0.0333,  0.0196, -0.0281,  0.0223,\n",
            "         0.0329,  0.0058,  0.0244,  0.0130,  0.0038,  0.0047,  0.0020,  0.0302,\n",
            "         0.0182, -0.0134,  0.0036,  0.0315, -0.0340, -0.0346,  0.0246,  0.0296,\n",
            "        -0.0021,  0.0301,  0.0338,  0.0003,  0.0208,  0.0350, -0.0291,  0.0016,\n",
            "         0.0065, -0.0238, -0.0083,  0.0045, -0.0121, -0.0104, -0.0239,  0.0228],\n",
            "       requires_grad=True)\n"
          ],
          "name": "stdout"
        }
      ]
    },
    {
      "cell_type": "markdown",
      "metadata": {
        "id": "VBbmKidQiBaf",
        "colab_type": "text"
      },
      "source": [
        "\n",
        "For custom initialization, we want to modify these tensors in place. These are actually autograd Variables, so we need to get back the actual tensors with model.fc1.weight.data. Once we have the tensors, we can fill them with zeros (for biases) or random normal values."
      ]
    },
    {
      "cell_type": "code",
      "metadata": {
        "id": "W_4YPjU5iOf7",
        "colab_type": "code",
        "colab": {
          "base_uri": "https://localhost:8080/",
          "height": 119
        },
        "outputId": "69a3cd2d-9346-44ec-c4f8-f4fb2490f5ab"
      },
      "source": [
        "# Set biases to all zeros\n",
        "model.fc1.bias.data.fill_(0)"
      ],
      "execution_count": 82,
      "outputs": [
        {
          "output_type": "execute_result",
          "data": {
            "text/plain": [
              "tensor([0., 0., 0., 0., 0., 0., 0., 0., 0., 0., 0., 0., 0., 0., 0., 0., 0., 0., 0., 0., 0., 0., 0., 0.,\n",
              "        0., 0., 0., 0., 0., 0., 0., 0., 0., 0., 0., 0., 0., 0., 0., 0., 0., 0., 0., 0., 0., 0., 0., 0.,\n",
              "        0., 0., 0., 0., 0., 0., 0., 0., 0., 0., 0., 0., 0., 0., 0., 0., 0., 0., 0., 0., 0., 0., 0., 0.,\n",
              "        0., 0., 0., 0., 0., 0., 0., 0., 0., 0., 0., 0., 0., 0., 0., 0., 0., 0., 0., 0., 0., 0., 0., 0.,\n",
              "        0., 0., 0., 0., 0., 0., 0., 0., 0., 0., 0., 0., 0., 0., 0., 0., 0., 0., 0., 0., 0., 0., 0., 0.,\n",
              "        0., 0., 0., 0., 0., 0., 0., 0.])"
            ]
          },
          "metadata": {
            "tags": []
          },
          "execution_count": 82
        }
      ]
    },
    {
      "cell_type": "code",
      "metadata": {
        "id": "Ncq8k78PiUwD",
        "colab_type": "code",
        "colab": {
          "base_uri": "https://localhost:8080/",
          "height": 238
        },
        "outputId": "a9b25a45-4dc9-46b5-8a2d-39a7e1c5fc84"
      },
      "source": [
        "# sample from random normal with standard dev = 0.01\n",
        "model.fc1.weight.data.normal_(std=0.01)"
      ],
      "execution_count": 83,
      "outputs": [
        {
          "output_type": "execute_result",
          "data": {
            "text/plain": [
              "tensor([[-1.8894e-03, -1.0166e-02,  6.4258e-03,  ...,  6.9197e-03,\n",
              "          3.6752e-03,  1.4070e-02],\n",
              "        [-7.7408e-03,  5.9104e-03,  2.5856e-03,  ..., -8.1237e-03,\n",
              "          9.8138e-05,  1.1175e-02],\n",
              "        [ 8.8960e-03, -6.4789e-03,  1.5649e-02,  ...,  2.7435e-04,\n",
              "         -7.3366e-03,  2.2125e-02],\n",
              "        ...,\n",
              "        [-3.7657e-03,  4.1685e-03,  7.7986e-03,  ..., -1.6920e-02,\n",
              "          8.5150e-04, -5.2015e-03],\n",
              "        [ 4.2577e-03, -1.6907e-03, -5.5836e-04,  ..., -1.1571e-02,\n",
              "          1.2550e-02,  1.4432e-02],\n",
              "        [ 1.3073e-02,  8.6931e-03,  8.6083e-03,  ...,  9.8246e-03,\n",
              "         -1.2997e-02,  1.3015e-02]])"
            ]
          },
          "metadata": {
            "tags": []
          },
          "execution_count": 83
        }
      ]
    }
  ]
}