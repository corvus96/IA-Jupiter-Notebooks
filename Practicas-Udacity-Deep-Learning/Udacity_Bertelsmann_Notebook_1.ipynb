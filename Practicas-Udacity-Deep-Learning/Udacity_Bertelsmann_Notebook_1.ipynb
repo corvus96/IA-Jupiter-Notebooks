{
  "nbformat": 4,
  "nbformat_minor": 0,
  "metadata": {
    "colab": {
      "name": "Udacity-Bertelsmann-Notebook-1.ipynb",
      "provenance": [],
      "collapsed_sections": []
    },
    "kernelspec": {
      "name": "python3",
      "display_name": "Python 3"
    }
  },
  "cells": [
    {
      "cell_type": "markdown",
      "metadata": {
        "id": "QayQt7coAZHe",
        "colab_type": "text"
      },
      "source": [
        "#AND perceptron\n",
        "---"
      ]
    },
    {
      "cell_type": "code",
      "metadata": {
        "id": "qIPVnTRk8XWL",
        "colab_type": "code",
        "colab": {}
      },
      "source": [
        "import pandas as pd"
      ],
      "execution_count": 0,
      "outputs": []
    },
    {
      "cell_type": "code",
      "metadata": {
        "id": "PyruwuDxAzjg",
        "colab_type": "code",
        "colab": {}
      },
      "source": [
        "# Seleccionar el valor  weight1, weight2 y bias adecuado para obtener un perceptron AND\n",
        "weight1 = 1\n",
        "weight2 = 1\n",
        "bias = -1.2"
      ],
      "execution_count": 0,
      "outputs": []
    },
    {
      "cell_type": "code",
      "metadata": {
        "id": "1zGQWuG_BNsz",
        "colab_type": "code",
        "colab": {}
      },
      "source": [
        "# No cambiar nada debajo\n",
        "# Se definen las entradas y salidas (features and labels)\n",
        "test_inputs = [(0, 0), (0, 1), (1, 0), (1, 1)]\n",
        "correct_outputs = [False, False, False, True]\n",
        "outputs = []"
      ],
      "execution_count": 0,
      "outputs": []
    },
    {
      "cell_type": "code",
      "metadata": {
        "id": "K0i-b8awBpEv",
        "colab_type": "code",
        "colab": {}
      },
      "source": [
        "# Generar y revisar la salida\n",
        "for test_input, correct_output in zip(test_inputs, correct_outputs): # zip toma como argumento dos o más objetos iterables\n",
        "                                                                     # (idealmente cada uno de ellos con la misma cantidad de elementos)\n",
        "                                                                     # y retorna un nuevo iterable cuyos elementos son tuplas que contienen\n",
        "                                                                     # un elemento de cada uno de los iteradores originales.\n",
        "    linear_combination = weight1 * test_input[0] + weight2 * test_input[1] + bias\n",
        "    output = int(linear_combination >= 0)\n",
        "    is_correct_string = 'Yes' if output == correct_output else 'No'\n",
        "    outputs.append([test_input[0], test_input[1], linear_combination, output, is_correct_string])"
      ],
      "execution_count": 0,
      "outputs": []
    },
    {
      "cell_type": "code",
      "metadata": {
        "id": "EoRFJLFGGycr",
        "colab_type": "code",
        "outputId": "cc9ceaeb-da87-4999-97fb-b7f24c6baca9",
        "colab": {
          "base_uri": "https://localhost:8080/",
          "height": 136
        }
      },
      "source": [
        "# Imprime la salida\n",
        "num_wrong = len([output[4] for output in outputs if output[4] == 'No'])\n",
        "output_frame = pd.DataFrame(outputs, columns=['Input 1', '  Input 2', '  Linear Combination', '  Activation Output', '  Is Correct']) # Da formato con pandas \n",
        "                                                                                                                                      # A la tabla\n",
        "if not num_wrong:\n",
        "    print('Nice!  You got it all correct.\\n')\n",
        "else:\n",
        "    print('You got {} wrong.  Keep trying!\\n'.format(num_wrong))\n",
        "print(output_frame.to_string(index=False))"
      ],
      "execution_count": 0,
      "outputs": [
        {
          "output_type": "stream",
          "text": [
            "Nice!  You got it all correct.\n",
            "\n",
            " Input 1    Input 2    Linear Combination    Activation Output   Is Correct\n",
            "       0          0                  -1.2                    0          Yes\n",
            "       0          1                  -0.2                    0          Yes\n",
            "       1          0                  -0.2                    0          Yes\n",
            "       1          1                   0.8                    1          Yes\n"
          ],
          "name": "stdout"
        }
      ]
    },
    {
      "cell_type": "markdown",
      "metadata": {
        "id": "MOf3cES8NeKC",
        "colab_type": "text"
      },
      "source": [
        "# NOT perceptron\n",
        "---"
      ]
    },
    {
      "cell_type": "code",
      "metadata": {
        "id": "hMuuQa0hNoTb",
        "colab_type": "code",
        "colab": {}
      },
      "source": [
        "# Seleccionar el valor  weight1, weight2 y bias adecuado para obtener un perceptron NOT\n",
        "weight1 = 0\n",
        "weight2 = -2\n",
        "bias = 1"
      ],
      "execution_count": 0,
      "outputs": []
    },
    {
      "cell_type": "code",
      "metadata": {
        "id": "arQ-7mgRN9Wh",
        "colab_type": "code",
        "colab": {}
      },
      "source": [
        "# No cambiar nada debajo\n",
        "# Se definen las entradas y salidas (features and labels)\n",
        "test_inputs = [(0, 0), (0, 1), (1, 0), (1, 1)]\n",
        "correct_outputs = [True, False, True, False]\n",
        "outputs = []"
      ],
      "execution_count": 0,
      "outputs": []
    },
    {
      "cell_type": "code",
      "metadata": {
        "id": "upk2Wt8nOK92",
        "colab_type": "code",
        "colab": {}
      },
      "source": [
        "# Generar y revisar la salida\n",
        "for test_input, correct_output in zip(test_inputs, correct_outputs): # zip toma como argumento dos o más objetos iterables\n",
        "                                                                     # (idealmente cada uno de ellos con la misma cantidad de elementos)\n",
        "                                                                     # y retorna un nuevo iterable cuyos elementos son tuplas que contienen\n",
        "                                                                     # un elemento de cada uno de los iteradores originales.\n",
        "    linear_combination = weight1 * test_input[0] + weight2 * test_input[1] + bias\n",
        "    output = int(linear_combination >= 0)\n",
        "    is_correct_string = 'Yes' if output == correct_output else 'No'\n",
        "    outputs.append([test_input[0], test_input[1], linear_combination, output, is_correct_string])"
      ],
      "execution_count": 0,
      "outputs": []
    },
    {
      "cell_type": "code",
      "metadata": {
        "id": "3t68rbLcOvbF",
        "colab_type": "code",
        "outputId": "03622655-1a43-43c3-8fa9-aac8329ecc6e",
        "colab": {
          "base_uri": "https://localhost:8080/",
          "height": 136
        }
      },
      "source": [
        "# Imprime la salida\n",
        "num_wrong = len([output[4] for output in outputs if output[4] == 'No'])\n",
        "output_frame = pd.DataFrame(outputs, columns=['Input 1', '  Input 2', '  Linear Combination', '  Activation Output', '  Is Correct'])\n",
        "if not num_wrong:\n",
        "    print('Nice!  You got it all correct.\\n')\n",
        "else:\n",
        "    print('You got {} wrong.  Keep trying!\\n'.format(num_wrong))\n",
        "print(output_frame.to_string(index=False))"
      ],
      "execution_count": 0,
      "outputs": [
        {
          "output_type": "stream",
          "text": [
            "Nice!  You got it all correct.\n",
            "\n",
            " Input 1    Input 2    Linear Combination    Activation Output   Is Correct\n",
            "       0          0                     1                    1          Yes\n",
            "       0          1                    -1                    0          Yes\n",
            "       1          0                     1                    1          Yes\n",
            "       1          1                    -1                    0          Yes\n"
          ],
          "name": "stdout"
        }
      ]
    },
    {
      "cell_type": "markdown",
      "metadata": {
        "id": "wSDN31E3t5__",
        "colab_type": "text"
      },
      "source": [
        "#Percetron tricks\n",
        "---\n",
        "Mover la recta 3x1+4x2-10 = 0 hasta clasificar bien el punto (1,1)"
      ]
    },
    {
      "cell_type": "code",
      "metadata": {
        "id": "DcvNJLf3uUAn",
        "colab_type": "code",
        "outputId": "61972b32-13f2-4010-9cdd-6f1ebff337e8",
        "colab": {
          "base_uri": "https://localhost:8080/",
          "height": 221
        }
      },
      "source": [
        "line =  [3.0, 4.0, -10.0]\n",
        "learning_rate = 0.1\n",
        "misclasified = True\n",
        "times = 0\n",
        "point = (1.0,1.0,1.0) # El tercero es extra pero el punto real es (1,1)\n",
        "while misclasified:\n",
        "    times += 1\n",
        "    for i in range(3):\n",
        "        line[i] = (line[i]+point[i]*learning_rate)\n",
        "    linear_combination = line[0]*point[0]+line[1]*point[1]+line[2]\n",
        "    print('w1: {:2.6f}  w2: {:2.6f}  b: {:2.6f}; output: {:2.6f}'.format(line[0],line[1],line[2],linear_combination))\n",
        "    if linear_combination >= 0:\n",
        "      misclasified = not misclasified\n",
        "    elif times == 100:\n",
        "      print(\"The point cannot be clasified\")\n",
        "      break\n",
        "print(times)"
      ],
      "execution_count": 0,
      "outputs": [
        {
          "output_type": "stream",
          "text": [
            "w1: 3.100000  w2: 4.100000  b: -9.900000; output: -2.700000\n",
            "w1: 3.200000  w2: 4.200000  b: -9.800000; output: -2.400000\n",
            "w1: 3.300000  w2: 4.300000  b: -9.700000; output: -2.100000\n",
            "w1: 3.400000  w2: 4.400000  b: -9.600000; output: -1.800000\n",
            "w1: 3.500000  w2: 4.500000  b: -9.500000; output: -1.500000\n",
            "w1: 3.600000  w2: 4.600000  b: -9.400000; output: -1.200000\n",
            "w1: 3.700000  w2: 4.700000  b: -9.300000; output: -0.900000\n",
            "w1: 3.800000  w2: 4.800000  b: -9.200000; output: -0.600000\n",
            "w1: 3.900000  w2: 4.900000  b: -9.100000; output: -0.300000\n",
            "w1: 4.000000  w2: 5.000000  b: -9.000000; output: -0.000000\n",
            "w1: 4.100000  w2: 5.100000  b: -8.900000; output: 0.300000\n",
            "11\n"
          ],
          "name": "stdout"
        }
      ]
    },
    {
      "cell_type": "markdown",
      "metadata": {
        "id": "JPLSRgkmJsLz",
        "colab_type": "text"
      },
      "source": [
        "#Perceptron algorithm\n",
        "---"
      ]
    },
    {
      "cell_type": "code",
      "metadata": {
        "id": "0FXCUK6kJ0BK",
        "colab_type": "code",
        "colab": {}
      },
      "source": [
        "import numpy as np\n",
        "# Setting the random seed, feel free to change it and see different solutions.\n",
        "np.random.seed(42)\n",
        "\n",
        "def stepFunction(t):\n",
        "    if t >= 0:\n",
        "        return 1\n",
        "    return 0\n",
        "\n",
        "def prediction(X, W, b):\n",
        "    return stepFunction((np.matmul(X,W)+b)[0])\n",
        "\n",
        "# TODO: Fill in the code below to implement the perceptron trick.\n",
        "# The function should receive as inputs the data X, the labels y,\n",
        "# the weights W (as an array), and the bias b,\n",
        "# update the weights and bias W, b, according to the perceptron algorithm,\n",
        "# and return W and b.\n",
        "def perceptronStep(X, y, W, b, learn_rate = 0.01):\n",
        "    for i in range(len(X)):\n",
        "        y_hat = prediction(X[i], W, b)\n",
        "        if y[i]-y_hat == 1:\n",
        "            W[0] += learn_rate*X[i][0]\n",
        "            W[1] += learn_rate*X[i][1]\n",
        "            b += learn_rate\n",
        "        elif y[i]-y_hat == -1:\n",
        "            W[0] -= learn_rate*X[i][0]\n",
        "            W[1] -= learn_rate*X[i][1]\n",
        "            b -= learn_rate\n",
        "    return W, b\n",
        "    \n",
        "# This function runs the perceptron algorithm repeatedly on the dataset,\n",
        "# and returns a few of the boundary lines obtained in the iterations,\n",
        "# for plotting purposes.\n",
        "# Feel free to play with the learning rate and the num_epochs,\n",
        "# and see your results plotted below.\n",
        "def trainPerceptronAlgorithm(X, y, learn_rate = 0.01, num_epochs = 25):\n",
        "    x_min, x_max = min(X.T[0]), max(X.T[0])\n",
        "    y_min, y_max = min(X.T[1]), max(X.T[1])\n",
        "    W = np.array(np.random.rand(2,1))\n",
        "    b = np.random.rand(1)[0] + x_max\n",
        "    # These are the solution lines that get plotted below.\n",
        "    boundary_lines = []\n",
        "    for i in range(num_epochs):\n",
        "        # In each epoch, we apply the perceptron step.\n",
        "        W, b = perceptronStep(X, y, W, b, learn_rate)\n",
        "        boundary_lines.append((-W[0]/W[1], -b/W[1]))\n",
        "    return boundary_lines\n",
        "# This algorithm need features and labels to work. Also It would be interesting plot boundary lines and model obtained"
      ],
      "execution_count": 0,
      "outputs": []
    },
    {
      "cell_type": "markdown",
      "metadata": {
        "id": "q6n4lw64K77T",
        "colab_type": "text"
      },
      "source": [
        "#Softmax function\n",
        "---"
      ]
    },
    {
      "cell_type": "code",
      "metadata": {
        "id": "jz1v32xfLA9H",
        "colab_type": "code",
        "colab": {}
      },
      "source": [
        "# Write a function that takes as input a list of numbers, and returns\n",
        "# the list of values given by the softmax function.\n",
        "def softmax(L):\n",
        "    expL = np.exp(L)\n",
        "    sumExp = sum(expL)\n",
        "    resultL = []\n",
        "    for i in range(len(expL)):\n",
        "        resultL.append(expL[i]/sumExp)\n",
        "    return resultL"
      ],
      "execution_count": 0,
      "outputs": []
    },
    {
      "cell_type": "markdown",
      "metadata": {
        "id": "TKxpdFgIeS-p",
        "colab_type": "text"
      },
      "source": [
        "#Cross entropy\n",
        "---"
      ]
    },
    {
      "cell_type": "code",
      "metadata": {
        "id": "N_azL1xUeZ-a",
        "colab_type": "code",
        "colab": {}
      },
      "source": [
        "# Write a function that takes as input two lists Y, P,\n",
        "# and returns the float corresponding to their cross-entropy.\n",
        "def cross_entropy(Y, P):\n",
        "    Y = np.float_(Y)\n",
        "    P = np.float_(P)\n",
        "    return -np.sum(Y*np.log(P)+(1-Y)*np.log(1-P))"
      ],
      "execution_count": 0,
      "outputs": []
    }
  ]
}