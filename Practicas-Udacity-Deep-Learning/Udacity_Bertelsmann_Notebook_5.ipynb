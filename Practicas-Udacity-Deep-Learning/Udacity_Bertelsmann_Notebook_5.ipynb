{
  "nbformat": 4,
  "nbformat_minor": 0,
  "metadata": {
    "colab": {
      "name": "Udacity_Bertelsmann_Notebook_5.ipynb",
      "provenance": []
    },
    "kernelspec": {
      "name": "python3",
      "display_name": "Python 3"
    }
  },
  "cells": [
    {
      "cell_type": "code",
      "metadata": {
        "id": "iiIXHRK_ueVy",
        "colab_type": "code",
        "colab": {
          "base_uri": "https://localhost:8080/",
          "height": 136
        },
        "outputId": "0e4637a9-2cb7-4a11-a028-01e6d5868ed9"
      },
      "source": [
        "import torch\n",
        "from torchvision import datasets, transforms\n",
        "import helper\n",
        "!wget -c https://raw.githubusercontent.com/udacity/deep-learning-v2-pytorch/master/intro-to-pytorch/helper.py ## To solve problem with helper\n",
        "\n",
        "# Define a transform to normalize the data\n",
        "transform = transforms.Compose([transforms.ToTensor(),\n",
        "                                transforms.Normalize((0.5,), (0.5,)),\n",
        "                              ])\n",
        "\n",
        "# Dowload and load the training data\n",
        "trainset = datasets.FashionMNIST('~/.pytorch/F_MNIST_data/', download=True, train=True, transform=transform)\n",
        "trainloader = torch.utils.data.DataLoader(trainset, batch_size=64, shuffle=True) \n",
        "\n",
        "# Dowload a and load the test data \n",
        "testset = datasets.FashionMNIST('~/.pytorch/F_MNIST_data/', download=True, train=False, transform=transform)\n",
        "testloader = torch.utils.data.DataLoader(testset, batch_size=64, shuffle=True)"
      ],
      "execution_count": 1,
      "outputs": [
        {
          "output_type": "stream",
          "text": [
            "--2020-01-18 13:34:46--  https://raw.githubusercontent.com/udacity/deep-learning-v2-pytorch/master/intro-to-pytorch/helper.py\n",
            "Resolving raw.githubusercontent.com (raw.githubusercontent.com)... 151.101.0.133, 151.101.64.133, 151.101.128.133, ...\n",
            "Connecting to raw.githubusercontent.com (raw.githubusercontent.com)|151.101.0.133|:443... connected.\n",
            "HTTP request sent, awaiting response... 416 Range Not Satisfiable\n",
            "\n",
            "    The file is already fully retrieved; nothing to do.\n",
            "\n"
          ],
          "name": "stdout"
        }
      ]
    },
    {
      "cell_type": "code",
      "metadata": {
        "id": "YH5SSQI23HjJ",
        "colab_type": "code",
        "colab": {
          "base_uri": "https://localhost:8080/",
          "height": 248
        },
        "outputId": "1960b3fb-7421-4e13-80ac-dbc3c21659c8"
      },
      "source": [
        "image, label = next(iter(trainloader)) # Example of data\n",
        "helper.imshow(image[0,:]);"
      ],
      "execution_count": 9,
      "outputs": [
        {
          "output_type": "display_data",
          "data": {
            "image/png": "[encoded data removed]",
            "text/plain": [
              "<Figure size 432x288 with 1 Axes>"
            ]
          },
          "metadata": {
            "tags": []
          }
        }
      ]
    },
    {
      "cell_type": "markdown",
      "metadata": {
        "id": "l1g8FCaI3vfQ",
        "colab_type": "text"
      },
      "source": [
        "### Network architecture\n",
        "---"
      ]
    },
    {
      "cell_type": "code",
      "metadata": {
        "id": "L888mEqx306T",
        "colab_type": "code",
        "colab": {
          "base_uri": "https://localhost:8080/",
          "height": 102
        },
        "outputId": "dd0f4c38-2470-48cb-b830-f06c047fd8bb"
      },
      "source": [
        "from torch import nn\n",
        "from torch import optim\n",
        "model = nn.Sequential(nn.Linear(784, 512),\n",
        "                      nn.ReLU(),\n",
        "                      nn.Linear(512, 256),\n",
        "                      nn.ReLU(),\n",
        "                      nn.Linear(256, 128),\n",
        "                      nn.ReLU(),\n",
        "                      nn.Linear(128, 64),\n",
        "                      nn.ReLU(),\n",
        "                      nn.Linear(64, 10),\n",
        "                      nn.LogSoftmax(dim=1))\n",
        "\n",
        "criterion = nn.NLLLoss()\n",
        "optimizer = optim.Adam(model.parameters(), lr=0.003)\n",
        "\n",
        "epochs = 5\n",
        "for e in range(epochs):\n",
        "    \n",
        "    running_loss = 0\n",
        "    for images, labels in trainloader:\n",
        "        # Flatten MNIST images into a 784 long vector\n",
        "        images = images.view(images.shape[0], -1)\n",
        "\n",
        "        # Clear the gradients, do this because gradients are accumulated\n",
        "        optimizer.zero_grad()\n",
        "\n",
        "        # TODO: Training pass\n",
        "        output = model(images)\n",
        "        loss = criterion(output, labels)\n",
        "        loss.backward()\n",
        "        optimizer.step()\n",
        "\n",
        "        running_loss += loss.item()\n",
        "    else:\n",
        "        print(f\"Training loss: {running_loss/len(trainloader)}\")"
      ],
      "execution_count": 24,
      "outputs": [
        {
          "output_type": "stream",
          "text": [
            "Training loss: 0.5414166822394074\n",
            "Training loss: 0.40318703848415854\n",
            "Training loss: 0.36640134970071725\n",
            "Training loss: 0.33662522963083374\n",
            "Training loss: 0.31812791801147117\n"
          ],
          "name": "stdout"
        }
      ]
    },
    {
      "cell_type": "markdown",
      "metadata": {
        "id": "NX7xGVKTBHDi",
        "colab_type": "text"
      },
      "source": [
        "### Testing\n",
        "---"
      ]
    },
    {
      "cell_type": "code",
      "metadata": {
        "id": "97_8txhvBNYq",
        "colab_type": "code",
        "colab": {
          "base_uri": "https://localhost:8080/",
          "height": 233
        },
        "outputId": "24a06699-ced2-4bd6-e5a0-8028a0c5143a"
      },
      "source": [
        "%matplotlib inline\n",
        "import helper\n",
        "\n",
        "images, labels = next(iter(testloader))\n",
        "\n",
        "img = images[0].view(1, 784)\n",
        "# Turn off gradients to speed up this part\n",
        "with torch.no_grad():\n",
        "    logps = model(img)\n",
        "\n",
        "# Output of the network are log-probabilities, need to take exponential for probabilities\n",
        "ps = torch.exp(logps)\n",
        "helper.view_classify(img.view(1, 28, 28), ps,version=\"Fashion\")\n",
        "\n"
      ],
      "execution_count": 45,
      "outputs": [
        {
          "output_type": "display_data",
          "data": {
            "image/png": "[encoded data removed]",
            "text/plain": [
              "<Figure size 432x648 with 2 Axes>"
            ]
          },
          "metadata": {
            "tags": [],
            "image/png": {
              "width": 424,
              "height": 216
            }
          }
        }
      ]
    },
    {
      "cell_type": "markdown",
      "metadata": {
        "id": "lTxj4JTaGc7x",
        "colab_type": "text"
      },
      "source": [
        "# **Inference and validation**\n",
        "\n",
        "Now that you have a trained network, you can use it for making predictions. This is typically called inference, a term borrowed from statistics. However, neural networks have a tendency to perform too well on the training data and aren't able to generalize to data that hasn't been seen before. This is called overfitting and it impairs inference performance. To test for overfitting while training, we measure the performance on data not in the training set called the validation set. We avoid overfitting through regularization such as dropout while monitoring the validation performance during training. In this notebook, I'll show you how to do this in PyTorch.\n",
        "\n",
        "As usual, let's start by loading the dataset through torchvision. You'll learn more about torchvision and loading data in a later part. This time we'll be taking advantage of the test set which you can get by setting train=False here:"
      ]
    },
    {
      "cell_type": "code",
      "metadata": {
        "id": "GNq2dCn0GcNt",
        "colab_type": "code",
        "colab": {}
      },
      "source": [
        "import torch\n",
        "from torchvision import datasets, transforms\n",
        "\n",
        "# Define a transform to normalize the data\n",
        "transform = transforms.Compose([transforms.ToTensor(),\n",
        "                                transforms.Normalize((0.5,), (0.5,))])\n",
        "# Download and load the training data\n",
        "trainset = datasets.FashionMNIST('~/.pytorch/F_MNIST_data/', download=True, train=True, transform=transform)\n",
        "trainloader = torch.utils.data.DataLoader(trainset, batch_size=64, shuffle=True)\n",
        "\n",
        "# Download and load the test data\n",
        "testset = datasets.FashionMNIST('~/.pytorch/F_MNIST_data/', download=True, train=False, transform=transform)\n",
        "testloader = torch.utils.data.DataLoader(testset, batch_size=64, shuffle=True)"
      ],
      "execution_count": 0,
      "outputs": []
    },
    {
      "cell_type": "markdown",
      "metadata": {
        "id": "UnDh6OhPJCfN",
        "colab_type": "text"
      },
      "source": [
        "Again my network "
      ]
    },
    {
      "cell_type": "code",
      "metadata": {
        "id": "R3BlBYAvJGh2",
        "colab_type": "code",
        "colab": {}
      },
      "source": [
        "from torch import nn, optim\n",
        "import torch.nn.functional as F\n",
        "\n",
        "class Classifier(nn.Module):\n",
        "    def __init__(self):\n",
        "        super().__init__()\n",
        "        self.fc1 = nn.Linear(784, 512)\n",
        "        self.fc2 = nn.Linear(512, 256)\n",
        "        self.fc3 = nn.Linear(256, 128)\n",
        "        self.fc4 = nn.Linear(128, 64)\n",
        "        self.fc5 = nn.Linear(64, 10)\n",
        "        \n",
        "    def forward(self, x):\n",
        "        # make sure input tensor is flattened\n",
        "        x = x.view(x.shape[0], -1)\n",
        "        \n",
        "        x = F.relu(self.fc1(x))\n",
        "        x = F.relu(self.fc2(x))\n",
        "        x = F.relu(self.fc3(x))\n",
        "        x = F.relu(self.fc4(x))\n",
        "        x = F.log_softmax(self.fc5(x), dim=1)\n",
        "        \n",
        "        return x"
      ],
      "execution_count": 0,
      "outputs": []
    },
    {
      "cell_type": "markdown",
      "metadata": {
        "id": "mAHBDJEGkMoR",
        "colab_type": "text"
      },
      "source": [
        "The goal of validation is to measure the model's performance on data that isn't part of the training set. Performance here is up to the developer to define though. Typically this is just accuracy, the percentage of classes the network predicted correctly. Other options are precision and recall) and top-5 error rate. We'll focus on accuracy here. First I'll do a forward pass with one batch from the test set."
      ]
    },
    {
      "cell_type": "code",
      "metadata": {
        "id": "XAB6nGJckaip",
        "colab_type": "code",
        "colab": {
          "base_uri": "https://localhost:8080/",
          "height": 34
        },
        "outputId": "1dc16ddd-8db8-4d06-8cdc-c5276dbe3c84"
      },
      "source": [
        "model = Classifier()\n",
        "images, labels = next(iter(testloader))\n",
        "# Get the class probabilities\n",
        "ps = torch.exp(model(images))\n",
        "# Make sure the shape is appropriate, we should get 10 class probabilities for 64 examples\n",
        "print(ps.shape)"
      ],
      "execution_count": 72,
      "outputs": [
        {
          "output_type": "stream",
          "text": [
            "torch.Size([64, 10])\n"
          ],
          "name": "stdout"
        }
      ]
    },
    {
      "cell_type": "markdown",
      "metadata": {
        "id": "mw0cmEE-lLP8",
        "colab_type": "text"
      },
      "source": [
        "With the probabilities, we can get the most likely class using the ps.topk method. This returns the $k$ highest values. Since we just want the most likely class, we can use ps.topk(1). This returns a tuple of the top-$k$ values and the top-$k$ indices. If the highest value is the fifth element, we'll get back 4 as the index."
      ]
    },
    {
      "cell_type": "code",
      "metadata": {
        "id": "y_786kCflH8g",
        "colab_type": "code",
        "colab": {
          "base_uri": "https://localhost:8080/",
          "height": 374
        },
        "outputId": "fdef233b-fa87-4595-b1c9-154f158e461b"
      },
      "source": [
        "top_p, top_class = ps.topk(1, dim=1)\n",
        "# Look at the most likely classes for the first 10 examples\n",
        "print(top_class[:10,:])\n",
        "print(top_p[:10,:])\n",
        "top_class.shape, top_p.shape"
      ],
      "execution_count": 70,
      "outputs": [
        {
          "output_type": "stream",
          "text": [
            "tensor([[9],\n",
            "        [9],\n",
            "        [9],\n",
            "        [9],\n",
            "        [9],\n",
            "        [9],\n",
            "        [9],\n",
            "        [9],\n",
            "        [9],\n",
            "        [9]])\n",
            "tensor([[0.1198],\n",
            "        [0.1197],\n",
            "        [0.1192],\n",
            "        [0.1193],\n",
            "        [0.1187],\n",
            "        [0.1167],\n",
            "        [0.1183],\n",
            "        [0.1200],\n",
            "        [0.1187],\n",
            "        [0.1192]], grad_fn=<SliceBackward>)\n"
          ],
          "name": "stdout"
        },
        {
          "output_type": "execute_result",
          "data": {
            "text/plain": [
              "(torch.Size([64, 1]), torch.Size([64, 1]))"
            ]
          },
          "metadata": {
            "tags": []
          },
          "execution_count": 70
        }
      ]
    },
    {
      "cell_type": "markdown",
      "metadata": {
        "id": "DBMYNoS9r8t7",
        "colab_type": "text"
      },
      "source": [
        "Now we can check if the predicted classes match the labels. This is simple to do by equating top_class and labels, but we have to be careful of the shapes. Here top_class is a 2D tensor with shape (64, 1) while labels is 1D with shape (64). To get the equality to work out the way we want, top_class and labels must have the same shape.\n",
        "\n",
        "If we do\n",
        ">equals = top_class == labels \n",
        "\n",
        "equals will have shape (64, 64), try it yourself. What it's doing is comparing the one element in each row of top_class with each element in labels which returns 64 True/False boolean values for each row."
      ]
    },
    {
      "cell_type": "code",
      "metadata": {
        "id": "eDvLyXF2sBxE",
        "colab_type": "code",
        "colab": {}
      },
      "source": [
        "equals = top_class == labels.view(*top_class.shape)"
      ],
      "execution_count": 0,
      "outputs": []
    },
    {
      "cell_type": "markdown",
      "metadata": {
        "id": "lra85ZzAsP1Q",
        "colab_type": "text"
      },
      "source": [
        "Now we need to calculate the percentage of correct predictions. equals has binary values, either 0 or 1. This means that if we just sum up all the values and divide by the number of values, we get the percentage of correct predictions. This is the same operation as taking the mean, so we can get the accuracy with a call to torch.mean. If only it was that simple. If you try torch.mean(equals), you'll get an error\n",
        "\n",
        "> RuntimeError: mean is not implemented for type torch.ByteTensor\n",
        "\n",
        "This happens because equals has type torch.ByteTensor but torch.mean isn't implemented for tensors with that type. So we'll need to convert equals to a float tensor. Note that when we take torch.mean it returns a scalar tensor, to get the actual value as a float we'll need to do accuracy.item()."
      ]
    },
    {
      "cell_type": "code",
      "metadata": {
        "id": "JBEQB8rRsSVq",
        "colab_type": "code",
        "colab": {
          "base_uri": "https://localhost:8080/",
          "height": 34
        },
        "outputId": "28c2a192-f191-4e68-84a0-b1a4d0b0d7bb"
      },
      "source": [
        "accuracy = torch.mean(equals.type(torch.FloatTensor))\n",
        "print(f'Accuracy: {accuracy.item()*100}%')"
      ],
      "execution_count": 58,
      "outputs": [
        {
          "output_type": "stream",
          "text": [
            "Accuracy: 7.8125%\n"
          ],
          "name": "stdout"
        }
      ]
    },
    {
      "cell_type": "markdown",
      "metadata": {
        "id": "N9dT6qK4sylv",
        "colab_type": "text"
      },
      "source": [
        "The network is untrained so it's making random guesses and we should see an accuracy around 10%. Now let's train our network and include our validation pass so we can measure how well the network is performing on the test set. Since we're not updating our parameters in the validation pass, we can speed up our code by turning off gradients using torch.no_grad():\n",
        "\n",
        "\n",
        "\n",
        "```\n",
        "> # turn off gradients\n",
        "with torch.no_grad():\n",
        "    # validation pass here\n",
        "    for images, labels in testloader:\n",
        "        ...\n",
        "```\n",
        "**Exercise:** Implement the validation loop below and print out the total accuracy after the loop. You can largely copy and paste the code from above, but I suggest typing it in because writing it out yourself is essential for building the skill. In general you'll always learn more by typing it rather than copy-pasting. You should be able to get an accuracy above 80%.\n",
        "\n"
      ]
    },
    {
      "cell_type": "code",
      "metadata": {
        "id": "crXUhk9ztKsI",
        "colab_type": "code",
        "colab": {
          "base_uri": "https://localhost:8080/",
          "height": 527
        },
        "outputId": "5225c722-27a8-4885-83c2-43bfbf826f40"
      },
      "source": [
        "model = Classifier()\n",
        "criterion = nn.NLLLoss()\n",
        "optimizer = optim.Adam(model.parameters(), lr=0.003)\n",
        "\n",
        "epochs = 30\n",
        "steps = 0\n",
        "\n",
        "train_losses, test_losses = [], []\n",
        "for e in range(epochs):\n",
        "    running_loss = 0\n",
        "    for images, labels in trainloader:\n",
        "        \n",
        "        optimizer.zero_grad()\n",
        "        \n",
        "        log_ps = model(images)\n",
        "        loss = criterion(log_ps, labels)\n",
        "        loss.backward()\n",
        "        optimizer.step()\n",
        "        \n",
        "        running_loss += loss.item()\n",
        "        \n",
        "    else:\n",
        "        ## TODO: Implement the validation pass and print out the validation accuracy\n",
        "        test_loss = 0\n",
        "        accuracy = 0\n",
        "        with torch.no_grad():\n",
        "          # validation pass here\n",
        "          for images, labels in testloader:\n",
        "            log_ps = model(images)\n",
        "            test_loss += criterion(log_ps, labels)\n",
        "\n",
        "            ps = torch.exp(log_ps)\n",
        "            top_p, top_class = ps.topk(1, dim=1) \n",
        "            equals = top_class == labels.view(*top_class.shape)\n",
        "            accuracy += torch.mean(equals.type(torch.FloatTensor))\n",
        "\n",
        "        train_losses.append(running_loss/len(trainloader))\n",
        "        test_losses.append(test_loss/len(testloader))\n",
        "        print(\"Epoch: {}/{}.. \".format(e+1, epochs),\n",
        "              \"Training Loss: {:.3f}.. \".format(running_loss/len(trainloader)),\n",
        "              \"Test Loss: {:.3f}.. \".format(test_loss/len(testloader)),\n",
        "              \"Test Accuracy: {:.3f}\".format(accuracy/len(testloader)))"
      ],
      "execution_count": 74,
      "outputs": [
        {
          "output_type": "stream",
          "text": [
            "Epoch: 1/30..  Training Loss: 0.543..  Test Loss: 0.425..  Test Accuracy: 0.846\n",
            "Epoch: 2/30..  Training Loss: 0.408..  Test Loss: 0.412..  Test Accuracy: 0.853\n",
            "Epoch: 3/30..  Training Loss: 0.364..  Test Loss: 0.434..  Test Accuracy: 0.848\n",
            "Epoch: 4/30..  Training Loss: 0.343..  Test Loss: 0.385..  Test Accuracy: 0.865\n",
            "Epoch: 5/30..  Training Loss: 0.321..  Test Loss: 0.377..  Test Accuracy: 0.869\n",
            "Epoch: 6/30..  Training Loss: 0.308..  Test Loss: 0.386..  Test Accuracy: 0.868\n",
            "Epoch: 7/30..  Training Loss: 0.295..  Test Loss: 0.375..  Test Accuracy: 0.867\n",
            "Epoch: 8/30..  Training Loss: 0.288..  Test Loss: 0.384..  Test Accuracy: 0.872\n",
            "Epoch: 9/30..  Training Loss: 0.277..  Test Loss: 0.353..  Test Accuracy: 0.879\n",
            "Epoch: 10/30..  Training Loss: 0.271..  Test Loss: 0.386..  Test Accuracy: 0.873\n",
            "Epoch: 11/30..  Training Loss: 0.264..  Test Loss: 0.378..  Test Accuracy: 0.876\n",
            "Epoch: 12/30..  Training Loss: 0.256..  Test Loss: 0.354..  Test Accuracy: 0.882\n",
            "Epoch: 13/30..  Training Loss: 0.259..  Test Loss: 0.391..  Test Accuracy: 0.880\n",
            "Epoch: 14/30..  Training Loss: 0.242..  Test Loss: 0.365..  Test Accuracy: 0.881\n",
            "Epoch: 15/30..  Training Loss: 0.243..  Test Loss: 0.386..  Test Accuracy: 0.882\n",
            "Epoch: 16/30..  Training Loss: 0.238..  Test Loss: 0.407..  Test Accuracy: 0.878\n",
            "Epoch: 17/30..  Training Loss: 0.226..  Test Loss: 0.371..  Test Accuracy: 0.888\n",
            "Epoch: 18/30..  Training Loss: 0.236..  Test Loss: 0.396..  Test Accuracy: 0.880\n",
            "Epoch: 19/30..  Training Loss: 0.223..  Test Loss: 0.387..  Test Accuracy: 0.887\n",
            "Epoch: 20/30..  Training Loss: 0.216..  Test Loss: 0.406..  Test Accuracy: 0.876\n",
            "Epoch: 21/30..  Training Loss: 0.215..  Test Loss: 0.381..  Test Accuracy: 0.886\n",
            "Epoch: 22/30..  Training Loss: 0.213..  Test Loss: 0.378..  Test Accuracy: 0.877\n",
            "Epoch: 23/30..  Training Loss: 0.208..  Test Loss: 0.392..  Test Accuracy: 0.886\n",
            "Epoch: 24/30..  Training Loss: 0.214..  Test Loss: 0.365..  Test Accuracy: 0.886\n",
            "Epoch: 25/30..  Training Loss: 0.206..  Test Loss: 0.416..  Test Accuracy: 0.884\n",
            "Epoch: 26/30..  Training Loss: 0.196..  Test Loss: 0.416..  Test Accuracy: 0.880\n",
            "Epoch: 27/30..  Training Loss: 0.209..  Test Loss: 0.409..  Test Accuracy: 0.886\n",
            "Epoch: 28/30..  Training Loss: 0.201..  Test Loss: 0.434..  Test Accuracy: 0.885\n",
            "Epoch: 29/30..  Training Loss: 0.188..  Test Loss: 0.441..  Test Accuracy: 0.876\n",
            "Epoch: 30/30..  Training Loss: 0.199..  Test Loss: 0.419..  Test Accuracy: 0.884\n"
          ],
          "name": "stdout"
        }
      ]
    },
    {
      "cell_type": "code",
      "metadata": {
        "id": "2IV-QDWy7k4i",
        "colab_type": "code",
        "colab": {
          "base_uri": "https://localhost:8080/",
          "height": 282
        },
        "outputId": "d8934140-297a-4842-9fdb-738f568397ba"
      },
      "source": [
        "%matplotlib inline\n",
        "%config InlineBackend.figure_format = 'retina'\n",
        "\n",
        "import matplotlib.pyplot as plt\n",
        "\n",
        "plt.plot(train_losses, label='Training loss')\n",
        "plt.plot(test_losses, label='Validation loss')\n",
        "plt.legend(frameon=False)"
      ],
      "execution_count": 75,
      "outputs": [
        {
          "output_type": "execute_result",
          "data": {
            "text/plain": [
              "<matplotlib.legend.Legend at 0x7fe0960f9780>"
            ]
          },
          "metadata": {
            "tags": []
          },
          "execution_count": 75
        },
        {
          "output_type": "display_data",
          "data": {
            "image/png": "[encoded data removed]",
            "text/plain": [
              "<Figure size 432x288 with 1 Axes>"
            ]
          },
          "metadata": {
            "tags": [],
            "image/png": {
              "width": 380,
              "height": 248
            }
          }
        }
      ]
    },
    {
      "cell_type": "markdown",
      "metadata": {
        "id": "seIWVLPVBEf6",
        "colab_type": "text"
      },
      "source": [
        "#**Overfitting**\n",
        "\n",
        "If we look at the training and validation losses as we train the network, we can see a phenomenon known as overfitting.\n",
        "\n",
        "The network learns the training set better and better, resulting in lower training losses. However, it starts having problems generalizing to data outside the training set leading to the validation loss increasing. The ultimate goal of any deep learning model is to make predictions on new data, so we should strive to get the lowest validation loss possible. One option is to use the version of the model with the lowest validation loss, here the one around 8-10 training epochs. This strategy is called early-stopping. In practice, you'd save the model frequently as you're training then later choose the model with the lowest validation loss.\n",
        "\n",
        "The most common method to reduce overfitting (outside of early-stopping) is dropout, where we randomly drop input units. This forces the network to share information between weights, increasing it's ability to generalize to new data. Adding dropout in PyTorch is straightforward using the nn.Dropout module."
      ]
    },
    {
      "cell_type": "code",
      "metadata": {
        "id": "ag8yhvb-BgBu",
        "colab_type": "code",
        "colab": {}
      },
      "source": [
        "class Classifier(nn.Module):\n",
        "    def __init__(self):\n",
        "        super().__init__()\n",
        "        self.fc1 = nn.Linear(784, 512)\n",
        "        self.fc2 = nn.Linear(512, 256)\n",
        "        self.fc3 = nn.Linear(256, 128)\n",
        "        self.fc4 = nn.Linear(128, 64)\n",
        "        self.fc5 = nn.Linear(64, 10)\n",
        "        \n",
        "        #With dropout \n",
        "        self.dropout = nn.Dropout(p=0.2)\n",
        "\n",
        "    def forward(self, x):\n",
        "        # make sure input tensor is flattened\n",
        "        x = x.view(x.shape[0], -1)\n",
        "        \n",
        "        x = self.dropout(F.relu(self.fc1(x)))\n",
        "        x = self.dropout(F.relu(self.fc2(x)))\n",
        "        x = self.dropout(F.relu(self.fc3(x)))\n",
        "        x = self.dropout(F.relu(self.fc4(x)))\n",
        "        \n",
        "        x = F.log_softmax(self.fc5(x), dim=1)\n",
        "        \n",
        "        return x"
      ],
      "execution_count": 0,
      "outputs": []
    },
    {
      "cell_type": "markdown",
      "metadata": {
        "id": "9ZlfruNmLMi8",
        "colab_type": "text"
      },
      "source": [
        "During training we want to use dropout to prevent overfitting, but during inference we want to use the entire network. So, we need to turn off dropout during validation, testing, and whenever we're using the network to make predictions. To do this, you use model.eval(). This sets the model to evaluation mode where the dropout probability is 0. You can turn dropout back on by setting the model to train mode with model.train(). In general, the pattern for the validation loop will look like this, where you turn off gradients, set the model to evaluation mode, calculate the validation loss and metric, then set the model back to train mode.\n",
        "\n",
        "\n",
        "\n",
        "```\n",
        "> # turn off gradients\n",
        "with torch.no_grad():\n",
        "\n",
        "    # set model to evaluation mode\n",
        "    model.eval()\n",
        "\n",
        "    # validation pass here\n",
        "    for images, labels in testloader:\n",
        "    ...\n",
        "# set model back to train mode\n",
        "model.train()\n",
        "```\n",
        "**Exercise:** Add dropout to your model and train it on Fashion-MNIST again. See if you can get a lower validation loss.\n"
      ]
    },
    {
      "cell_type": "code",
      "metadata": {
        "id": "NIEBGFMUKyEc",
        "colab_type": "code",
        "colab": {
          "base_uri": "https://localhost:8080/",
          "height": 527
        },
        "outputId": "1588b712-7531-4c4a-b468-ffd1cb59caf9"
      },
      "source": [
        "model = Classifier()\n",
        "criterion = nn.NLLLoss()\n",
        "optimizer = optim.Adam(model.parameters(), lr=0.003)\n",
        "\n",
        "epochs = 30\n",
        "steps = 0\n",
        "\n",
        "train_losses, test_losses = [], []\n",
        "for e in range(epochs):\n",
        "    running_loss = 0\n",
        "    for images, labels in trainloader:\n",
        "        \n",
        "        optimizer.zero_grad()\n",
        "        \n",
        "        log_ps = model(images)\n",
        "        loss = criterion(log_ps, labels)\n",
        "        loss.backward()\n",
        "        optimizer.step()\n",
        "        \n",
        "        running_loss += loss.item()\n",
        "        \n",
        "    else:\n",
        "        ## TODO: Implement the validation pass and print out the validation accuracy\n",
        "        test_loss = 0\n",
        "        accuracy = 0\n",
        "        with torch.no_grad():\n",
        "          model.eval()\n",
        "          # validation pass here\n",
        "          for images, labels in testloader:\n",
        "            log_ps = model(images)\n",
        "            test_loss += criterion(log_ps, labels)\n",
        "\n",
        "            ps = torch.exp(log_ps)\n",
        "            top_p, top_class = ps.topk(1, dim=1) \n",
        "            equals = top_class == labels.view(*top_class.shape)\n",
        "            accuracy += torch.mean(equals.type(torch.FloatTensor))\n",
        "        \n",
        "        model.train()\n",
        "        train_losses.append(running_loss/len(trainloader))\n",
        "        test_losses.append(test_loss/len(testloader))\n",
        "        print(\"Epoch: {}/{}.. \".format(e+1, epochs),\n",
        "              \"Training Loss: {:.3f}.. \".format(running_loss/len(trainloader)),\n",
        "              \"Test Loss: {:.3f}.. \".format(test_loss/len(testloader)),\n",
        "              \"Test Accuracy: {:.3f}\".format(accuracy/len(testloader)))"
      ],
      "execution_count": 78,
      "outputs": [
        {
          "output_type": "stream",
          "text": [
            "Epoch: 1/30..  Training Loss: 0.643..  Test Loss: 0.475..  Test Accuracy: 0.826\n",
            "Epoch: 2/30..  Training Loss: 0.508..  Test Loss: 0.453..  Test Accuracy: 0.841\n",
            "Epoch: 3/30..  Training Loss: 0.474..  Test Loss: 0.492..  Test Accuracy: 0.834\n",
            "Epoch: 4/30..  Training Loss: 0.465..  Test Loss: 0.458..  Test Accuracy: 0.834\n",
            "Epoch: 5/30..  Training Loss: 0.450..  Test Loss: 0.430..  Test Accuracy: 0.848\n",
            "Epoch: 6/30..  Training Loss: 0.451..  Test Loss: 0.449..  Test Accuracy: 0.842\n",
            "Epoch: 7/30..  Training Loss: 0.434..  Test Loss: 0.397..  Test Accuracy: 0.862\n",
            "Epoch: 8/30..  Training Loss: 0.431..  Test Loss: 0.400..  Test Accuracy: 0.857\n",
            "Epoch: 9/30..  Training Loss: 0.419..  Test Loss: 0.405..  Test Accuracy: 0.859\n",
            "Epoch: 10/30..  Training Loss: 0.418..  Test Loss: 0.401..  Test Accuracy: 0.855\n",
            "Epoch: 11/30..  Training Loss: 0.425..  Test Loss: 0.398..  Test Accuracy: 0.861\n",
            "Epoch: 12/30..  Training Loss: 0.425..  Test Loss: 0.408..  Test Accuracy: 0.856\n",
            "Epoch: 13/30..  Training Loss: 0.411..  Test Loss: 0.399..  Test Accuracy: 0.867\n",
            "Epoch: 14/30..  Training Loss: 0.414..  Test Loss: 0.419..  Test Accuracy: 0.865\n",
            "Epoch: 15/30..  Training Loss: 0.420..  Test Loss: 0.400..  Test Accuracy: 0.870\n",
            "Epoch: 16/30..  Training Loss: 0.412..  Test Loss: 0.389..  Test Accuracy: 0.863\n",
            "Epoch: 17/30..  Training Loss: 0.425..  Test Loss: 0.396..  Test Accuracy: 0.867\n",
            "Epoch: 18/30..  Training Loss: 0.414..  Test Loss: 0.425..  Test Accuracy: 0.852\n",
            "Epoch: 19/30..  Training Loss: 0.407..  Test Loss: 0.393..  Test Accuracy: 0.866\n",
            "Epoch: 20/30..  Training Loss: 0.398..  Test Loss: 0.390..  Test Accuracy: 0.870\n",
            "Epoch: 21/30..  Training Loss: 0.399..  Test Loss: 0.400..  Test Accuracy: 0.867\n",
            "Epoch: 22/30..  Training Loss: 0.419..  Test Loss: 0.393..  Test Accuracy: 0.865\n",
            "Epoch: 23/30..  Training Loss: 0.393..  Test Loss: 0.400..  Test Accuracy: 0.862\n",
            "Epoch: 24/30..  Training Loss: 0.393..  Test Loss: 0.382..  Test Accuracy: 0.873\n",
            "Epoch: 25/30..  Training Loss: 0.396..  Test Loss: 0.389..  Test Accuracy: 0.869\n",
            "Epoch: 26/30..  Training Loss: 0.401..  Test Loss: 0.401..  Test Accuracy: 0.867\n",
            "Epoch: 27/30..  Training Loss: 0.402..  Test Loss: 0.389..  Test Accuracy: 0.866\n",
            "Epoch: 28/30..  Training Loss: 0.404..  Test Loss: 0.410..  Test Accuracy: 0.866\n",
            "Epoch: 29/30..  Training Loss: 0.388..  Test Loss: 0.387..  Test Accuracy: 0.874\n",
            "Epoch: 30/30..  Training Loss: 0.397..  Test Loss: 0.390..  Test Accuracy: 0.869\n"
          ],
          "name": "stdout"
        }
      ]
    },
    {
      "cell_type": "code",
      "metadata": {
        "id": "7iG3JDABNNfp",
        "colab_type": "code",
        "colab": {
          "base_uri": "https://localhost:8080/",
          "height": 282
        },
        "outputId": "af5f6f52-a231-48af-f63d-ccf8b85311d7"
      },
      "source": [
        "%matplotlib inline\n",
        "%config InlineBackend.figure_format = 'retina'\n",
        "\n",
        "import matplotlib.pyplot as plt\n",
        "\n",
        "plt.plot(train_losses, label='Training loss')\n",
        "plt.plot(test_losses, label='Validation loss')\n",
        "plt.legend(frameon=False)"
      ],
      "execution_count": 79,
      "outputs": [
        {
          "output_type": "execute_result",
          "data": {
            "text/plain": [
              "<matplotlib.legend.Legend at 0x7fe0935e5ac8>"
            ]
          },
          "metadata": {
            "tags": []
          },
          "execution_count": 79
        },
        {
          "output_type": "display_data",
          "data": {
            "image/png": "[encoded data removed]",
            "text/plain": [
              "<Figure size 432x288 with 1 Axes>"
            ]
          },
          "metadata": {
            "tags": [],
            "image/png": {
              "width": 380,
              "height": 248
            }
          }
        }
      ]
    }
  ]
}